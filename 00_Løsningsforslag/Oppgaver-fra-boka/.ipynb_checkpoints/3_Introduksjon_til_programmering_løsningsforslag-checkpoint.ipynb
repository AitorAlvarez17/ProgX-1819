{
 "cells": [
  {
   "cell_type": "markdown",
   "metadata": {},
   "source": [
    "# Løsningsforslag til kapittel 3"
   ]
  },
  {
   "cell_type": "markdown",
   "metadata": {},
   "source": [
    "### Biblioteker til oppgavene"
   ]
  },
  {
   "cell_type": "code",
   "execution_count": 33,
   "metadata": {},
   "outputs": [],
   "source": [
    "import numpy as np"
   ]
  },
  {
   "cell_type": "markdown",
   "metadata": {},
   "source": [
    "### 3.8"
   ]
  },
  {
   "cell_type": "code",
   "execution_count": 34,
   "metadata": {},
   "outputs": [
    {
     "name": "stdout",
     "output_type": "stream",
     "text": [
      "Forholde mellom massen til proteinet og massen til elektronet: 1836\n"
     ]
    }
   ],
   "source": [
    "m_p = 1.672621898 * 10 ** (-27)\n",
    "m_e = 9.10938356 * 10 ** (-31)\n",
    "forhold = m_p/m_e\n",
    "print(f'Forholde mellom massen til proteinet og massen til elektronet: {forhold:4.0f}')"
   ]
  },
  {
   "cell_type": "markdown",
   "metadata": {},
   "source": [
    "### 3.9"
   ]
  },
  {
   "cell_type": "code",
   "execution_count": 37,
   "metadata": {},
   "outputs": [
    {
     "name": "stdout",
     "output_type": "stream",
     "text": [
      "Gjennomsnittet til tallene: 3.0\n"
     ]
    }
   ],
   "source": [
    "a = int(input(\"Tall1: \"))\n",
    "b = int(input(\"Tall2: \"))\n",
    "c = int(input(\"Tall3: \"))\n",
    "d = int(input(\"Tall4: \"))\n",
    "e = int(input(\"Tall5: \"))\n",
    "\n",
    "print(f'Gjennomsnittet til tallene: {(a+b+c+d+e)/5}')"
   ]
  },
  {
   "cell_type": "markdown",
   "metadata": {},
   "source": [
    "### 3.11"
   ]
  },
  {
   "cell_type": "code",
   "execution_count": 22,
   "metadata": {},
   "outputs": [
    {
     "name": "stdout",
     "output_type": "stream",
     "text": [
      "Bilen har brukt 43.0l etter 43.0km\n"
     ]
    }
   ],
   "source": [
    "forbruk = float(input(\"Kilometerforbruk: \"))\n",
    "km = float(input(\"Ant. kilometer: \"))\n",
    "\n",
    "print(f'Bilen har brukt {forbruk * km}l etter {km}km')"
   ]
  },
  {
   "cell_type": "markdown",
   "metadata": {},
   "source": [
    "### 3.21"
   ]
  },
  {
   "cell_type": "code",
   "execution_count": 38,
   "metadata": {},
   "outputs": [],
   "source": [
    "def arealSirkel(r):\n",
    "    return np.pi * r**2\n",
    "\n",
    "def radiusFraDiameter(d):\n",
    "    return d/2\n",
    "\n",
    "def omkretsSirkel(r):\n",
    "    return 2 * np.pi * r\n",
    "\n",
    "def volumKule(r):\n",
    "    return 4/3 * np.pi * r**3\n",
    "\n",
    "def overflateKule(r):\n",
    "    4 * np.pi * r**2"
   ]
  },
  {
   "cell_type": "markdown",
   "metadata": {},
   "source": [
    "### 3.23"
   ]
  },
  {
   "cell_type": "code",
   "execution_count": 32,
   "metadata": {},
   "outputs": [
    {
     "name": "stdout",
     "output_type": "stream",
     "text": [
      "61.0F = 16.1C\n"
     ]
    }
   ],
   "source": [
    "tf = float(input(\"Skriv inn temperatur i Fahrenheit: \"))\n",
    "\n",
    "def fahrenheitTilCelsius(tf):\n",
    "    return (tf - 32) * 5/9\n",
    "\n",
    "print(f'{tf}F = {fahrenheitTilCelsius(tf):.1f}C')"
   ]
  },
  {
   "cell_type": "markdown",
   "metadata": {},
   "source": [
    "### 3.25"
   ]
  },
  {
   "cell_type": "code",
   "execution_count": 40,
   "metadata": {},
   "outputs": [
    {
     "name": "stdout",
     "output_type": "stream",
     "text": [
      "30.0 grader = 0.5 radianer\n"
     ]
    }
   ],
   "source": [
    "vg = float(input(\"Vinkelmål i grader: \"))\n",
    "\n",
    "def graderTilRadianer(vg):\n",
    "    return 2 * np.pi * vg / 360\n",
    "\n",
    "print(f'{vg} grader = {graderTilRadianer(vg):.1} radianer')"
   ]
  },
  {
   "cell_type": "markdown",
   "metadata": {},
   "source": [
    "### 3.31     \n",
    "\n",
    "$$x=\\frac{-b \\pm \\sqrt{b^2-4ac}}{2a}$$"
   ]
  },
  {
   "cell_type": "code",
   "execution_count": 60,
   "metadata": {},
   "outputs": [
    {
     "name": "stdout",
     "output_type": "stream",
     "text": [
      "x(1, 0, -4) = (-2.0, 2.0)\n"
     ]
    }
   ],
   "source": [
    "def x(a, b, c):\n",
    "    return (-b - np.sqrt(b**2 - 4 * a * c))/(2 * a), (-b + np.sqrt(b**2 - 4 * a * c))/(2 * a)\n",
    "\n",
    "print(f'x(1, 0, -4) = {x(1, 0,-4)}')"
   ]
  },
  {
   "cell_type": "markdown",
   "metadata": {},
   "source": [
    "### 3.33 a)\n",
    "$$\\log_2(x)=\\frac{\\log(x)}{\\log(2)}$$"
   ]
  },
  {
   "cell_type": "code",
   "execution_count": 65,
   "metadata": {},
   "outputs": [
    {
     "name": "stdout",
     "output_type": "stream",
     "text": [
      "log_2(64) = 6.0\n"
     ]
    }
   ],
   "source": [
    "x = int(input(\"Skriv inn x for å regne ut log_2(x): \"))\n",
    "\n",
    "print(f'log_2({x}) = {np.log(x)/np.log(2)}')"
   ]
  },
  {
   "cell_type": "markdown",
   "metadata": {},
   "source": [
    "### 3.33 b)\n",
    "$$\\log_a(x)=\\frac{\\log(x)}{\\log(a)}$$"
   ]
  },
  {
   "cell_type": "code",
   "execution_count": 66,
   "metadata": {},
   "outputs": [
    {
     "name": "stdout",
     "output_type": "stream",
     "text": [
      "log_10(10000) = 4.0\n"
     ]
    }
   ],
   "source": [
    "x = int(input(\"Skriv inn x for å regne ut log_a(x): \"))\n",
    "a = int(input(\"Skriv inn a for å regne ut log_a(x): \"))\n",
    "\n",
    "print(f'log_{a}({x}) = {np.log(x)/np.log(a)}')"
   ]
  },
  {
   "cell_type": "markdown",
   "metadata": {},
   "source": []
  }
 ],
 "metadata": {
  "kernelspec": {
   "display_name": "Python 3",
   "language": "python",
   "name": "python3"
  },
  "language_info": {
   "codemirror_mode": {
    "name": "ipython",
    "version": 3
   },
   "file_extension": ".py",
   "mimetype": "text/x-python",
   "name": "python",
   "nbconvert_exporter": "python",
   "pygments_lexer": "ipython3",
   "version": "3.6.5"
  }
 },
 "nbformat": 4,
 "nbformat_minor": 2
}
