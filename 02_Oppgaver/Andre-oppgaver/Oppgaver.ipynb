{
 "cells": [
  {
   "cell_type": "markdown",
   "metadata": {},
   "source": [
    "# Oppgavesett"
   ]
  },
  {
   "cell_type": "markdown",
   "metadata": {},
   "source": [
    "#### Bibliotek"
   ]
  },
  {
   "cell_type": "code",
   "execution_count": null,
   "metadata": {},
   "outputs": [],
   "source": []
  },
  {
   "cell_type": "markdown",
   "metadata": {},
   "source": [
    "### Oppgave 1.3: Hvordan koke det perfekte egget\n",
    "Når et egg koker [denaturerer](https://snl.no/denaturering_-_av_proteiner) [proteinet](https://snl.no/proteiner) før det så [koagulerer](https://snl.no/koagulering). Prosessen går raskere jo varmere det er. Proteinene i eggehviten starter å koagulere ved $63^{\\circ}$C, mens proteinene i eggeplommen koagulerer fra $70^{\\circ}$C\n",
    "\n",
    "### Løsning:"
   ]
  },
  {
   "cell_type": "code",
   "execution_count": null,
   "metadata": {},
   "outputs": [],
   "source": []
  }
 ],
 "metadata": {
  "kernelspec": {
   "display_name": "Python 3",
   "language": "python",
   "name": "python3"
  },
  "language_info": {
   "codemirror_mode": {
    "name": "ipython",
    "version": 3
   },
   "file_extension": ".py",
   "mimetype": "text/x-python",
   "name": "python",
   "nbconvert_exporter": "python",
   "pygments_lexer": "ipython3",
   "version": "3.6.6"
  }
 },
 "nbformat": 4,
 "nbformat_minor": 2
}
