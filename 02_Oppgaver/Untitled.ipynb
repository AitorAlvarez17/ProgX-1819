{
 "cells": [
  {
   "cell_type": "markdown",
   "metadata": {},
   "source": [
    "# Innlevering 2"
   ]
  },
  {
   "cell_type": "markdown",
   "metadata": {},
   "source": [
    "Utforske og sammenligne algoritmene for numerisk, derivasjon og intigrasjon.\n",
    "\n",
    "---"
   ]
  },
  {
   "cell_type": "markdown",
   "metadata": {},
   "source": [
    "### Oppgave 1\n",
    "    i)    Utled og forklar Newtons metode.\n",
    "    ii)   Gjør oppgave 9.9 fra bok\n",
    "    iii)  Sammenlign resultatet i b)når du brukte Newtons metode med Halveringsmetoden for ulike steglengder.\n",
    "    iiii) Plot feilen svarene fra de numeriske metodene gir ved ulik steglengde. \n",
    "    \n",
    "___"
   ]
  },
  {
   "cell_type": "markdown",
   "metadata": {},
   "source": [
    "### Oppgave 2\n",
    "    i)  7.11 fra boka\n",
    "    ii) 7.19 fra boka\n",
    "    \n",
    "___"
   ]
  },
  {
   "cell_type": "markdown",
   "metadata": {},
   "source": [
    "### Oppgave 3\n",
    "\n",
    "7.12 fra boka    \n",
    "<a href='https://www.uio.no/studier/emner/matnat/math/MAT-INF1100/h18/obliger/running.txt'>Datafil</a>\n",
    "\n",
    "___"
   ]
  },
  {
   "cell_type": "markdown",
   "metadata": {},
   "source": [
    "### Oppgave 4\n",
    "Utled og forklar Eulers metode. \n",
    "\n",
    "___"
   ]
  },
  {
   "cell_type": "markdown",
   "metadata": {},
   "source": [
    "### Oppgave 5\n",
    "Løs diffligningene numerisk og plot $x(t),\\; x\\in[0,5]$:\n",
    "\n",
    "    i)\n",
    "$$x′=t+x,\\; x(0)=1.$$\n",
    "\n",
    "    ii)\n",
    "$$x′ + x^2=􏰁 1,\\; x(0)=0$$\n",
    "\n",
    "    iii)\n",
    "    \n",
    "$$x′ = \\frac{t}{1+x^2},\\; x(0)=1.$$\n",
    "\n",
    "___\n"
   ]
  },
  {
   "cell_type": "code",
   "execution_count": null,
   "metadata": {},
   "outputs": [],
   "source": []
  }
 ],
 "metadata": {
  "kernelspec": {
   "display_name": "Python 3",
   "language": "python",
   "name": "python3"
  },
  "language_info": {
   "codemirror_mode": {
    "name": "ipython",
    "version": 3
   },
   "file_extension": ".py",
   "mimetype": "text/x-python",
   "name": "python",
   "nbconvert_exporter": "python",
   "pygments_lexer": "ipython3",
   "version": "3.7.1"
  }
 },
 "nbformat": 4,
 "nbformat_minor": 2
}
