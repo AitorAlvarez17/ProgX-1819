{
 "cells": [
  {
   "cell_type": "code",
   "execution_count": null,
   "metadata": {},
   "outputs": [],
   "source": []
  },
  {
   "cell_type": "code",
   "execution_count": 276,
   "metadata": {},
   "outputs": [],
   "source": [
    "A = 2\n",
    "sigma = 0.1\n",
    "omega = 0.1 * 2 * np.pi\n",
    "x_true = np.array([A, sigma, omega])\n",
    "\n",
    "noise = 0.1\n",
    "\n",
    "t_min = 1\n",
    "t_max = 12"
   ]
  },
  {
   "cell_type": "code",
   "execution_count": 277,
   "metadata": {},
   "outputs": [],
   "source": [
    "t_train = np.linspace(t_min, t_max, 12)"
   ]
  },
  {
   "cell_type": "code",
   "execution_count": 278,
   "metadata": {},
   "outputs": [],
   "source": [
    "y_train = np.array([6,6,8,11,14,17,19,18,16,13,9,6])"
   ]
  },
  {
   "cell_type": "code",
   "execution_count": 279,
   "metadata": {},
   "outputs": [
    {
     "data": {
      "text/plain": [
       "array([ 6,  6,  8, 11, 14, 17, 19, 18, 16, 13,  9,  6])"
      ]
     },
     "execution_count": 279,
     "metadata": {},
     "output_type": "execute_result"
    }
   ],
   "source": [
    "y_train"
   ]
  },
  {
   "cell_type": "code",
   "execution_count": 280,
   "metadata": {},
   "outputs": [],
   "source": [
    "def fun(x, t, y):\n",
    "    return x[0]  * np.sin(x[1] * t - x[2]) + x[3]"
   ]
  },
  {
   "cell_type": "code",
   "execution_count": 281,
   "metadata": {},
   "outputs": [],
   "source": [
    "x0 = np.ones(4)"
   ]
  },
  {
   "cell_type": "code",
   "execution_count": 282,
   "metadata": {},
   "outputs": [],
   "source": [
    "from scipy.optimize import least_squares"
   ]
  },
  {
   "cell_type": "code",
   "execution_count": 283,
   "metadata": {},
   "outputs": [],
   "source": [
    "res_lsq = least_squares(fun, x0, args=(t_train, y_train))"
   ]
  },
  {
   "cell_type": "code",
   "execution_count": 286,
   "metadata": {},
   "outputs": [],
   "source": [
    "res_robust = least_squares(fun, x0, loss='soft_l1', f_scale=0.1, args=(t_train, y_train))"
   ]
  },
  {
   "cell_type": "code",
   "execution_count": 284,
   "metadata": {},
   "outputs": [],
   "source": [
    "import matplotlib.pyplot as plt"
   ]
  },
  {
   "cell_type": "code",
   "execution_count": 289,
   "metadata": {},
   "outputs": [
    {
     "data": {
      "image/png": "[encoded data removed]",
      "text/plain": [
       "<Figure size 432x288 with 1 Axes>"
      ]
     },
     "metadata": {
      "needs_background": "light"
     },
     "output_type": "display_data"
    }
   ],
   "source": [
    "plt.plot(t_train, y_train, 'o', label='data')\n",
    "plt.plot(t_test, y_lsq, label='lsq')\n",
    "plt.plot(t_test, y_robust, label='robust lsq')\n",
    "\n",
    "plt.xlabel('$x$')\n",
    "plt.ylabel('$y$')\n",
    "plt.legend();"
   ]
  },
  {
   "cell_type": "code",
   "execution_count": 239,
   "metadata": {},
   "outputs": [
    {
     "data": {
      "text/plain": [
       " active_mask: array([0., 0., 0., 0.])\n",
       "        cost: 1.4603988897088045e-18\n",
       "         fun: array([ 3.17749272e-10, -1.50011737e-10, -1.87715433e-10,  2.39302789e-10,\n",
       "        7.38444345e-10,  8.50800790e-10,  4.73072129e-10, -4.74596518e-11,\n",
       "       -2.32220033e-10,  8.86588274e-11,  6.20162385e-10,  8.73628721e-10])\n",
       "        grad: array([-3.20543582e-09,  2.67430420e-18, -1.71473100e-19,  3.58441240e-09])\n",
       "         jac: array([[-7.88871413e-10, -5.55884894e-10,  5.55884894e-10,\n",
       "         1.00000000e+00],\n",
       "       [ 8.41470984e-01, -6.00691767e-10,  3.00345894e-10,\n",
       "         1.00000000e+00],\n",
       "       [ 9.09297428e-01,  6.93989248e-10, -2.31329740e-10,\n",
       "         1.00000000e+00],\n",
       "       [ 1.41120011e-01,  2.20128750e-09, -5.50321871e-10,\n",
       "         1.00000000e+00],\n",
       "       [-7.56802493e-01,  1.81675300e-09, -3.63350627e-10,\n",
       "         1.00000000e+00],\n",
       "       [-9.58924276e-01, -9.46101281e-10,  1.57683512e-10,\n",
       "         1.00000000e+00],\n",
       "       [-2.79415503e-01, -3.73620915e-09,  5.33744153e-10,\n",
       "         1.00000000e+00],\n",
       "       [ 6.56986594e-01, -3.35266284e-09,  4.19082880e-10,\n",
       "         1.00000000e+00],\n",
       "       [ 9.89358248e-01,  7.27931736e-10, -8.08812600e-11,\n",
       "         1.00000000e+00],\n",
       "       [ 4.12118492e-01,  5.06483564e-09, -5.06483544e-10,\n",
       "         1.00000000e+00],\n",
       "       [-5.44021104e-01,  5.13069882e-09, -4.66427189e-10,\n",
       "         1.00000000e+00],\n",
       "       [-9.99990207e-01, -2.95226829e-11,  2.46017096e-12,\n",
       "         1.00000000e+00]])\n",
       "     message: '`gtol` termination condition is satisfied.'\n",
       "        nfev: 2\n",
       "        njev: 2\n",
       "  optimality: 3.5844124034714057e-09\n",
       "      status: 1\n",
       "     success: True\n",
       "           x: array([-5.55884894e-10,  9.99999999e-01,  1.00000000e+00,  3.17749271e-10])"
      ]
     },
     "execution_count": 239,
     "metadata": {},
     "output_type": "execute_result"
    }
   ],
   "source": [
    "res_lsq"
   ]
  },
  {
   "cell_type": "code",
   "execution_count": 213,
   "metadata": {},
   "outputs": [],
   "source": [
    "t = symbols('t')"
   ]
  },
  {
   "cell_type": "code",
   "execution_count": 243,
   "metadata": {},
   "outputs": [
    {
     "data": {
      "image/png": "[encoded data removed]",
      "text/latex": [
       "$$- 5.55884893671532 \\cdot 10^{-10} \\sin{\\left (0.99999999929301 t - 1.00000000008188 \\right )} + 3.17749271339096 \\cdot 10^{-10}$$"
      ],
      "text/plain": [
       "-5.55884893671532e-10⋅sin(0.99999999929301⋅t - 1.00000000008188) + 3.177492713\n",
       "39096e-10"
      ]
     },
     "execution_count": 243,
     "metadata": {},
     "output_type": "execute_result"
    }
   ],
   "source": [
    "T = res_lsq.x[0] * sin(res_lsq.x[1]*t - res_lsq.x[2]) + res_lsq.x[3]\n",
    "T"
   ]
  },
  {
   "cell_type": "code",
   "execution_count": 1,
   "metadata": {},
   "outputs": [],
   "source": [
    "import numpy as np\n",
    "from sympy import *\n",
    "init_printing()"
   ]
  },
  {
   "cell_type": "code",
   "execution_count": 83,
   "metadata": {},
   "outputs": [],
   "source": [
    "x = symbols('x')\n",
    "b = symbols('b')\n",
    "pi = symbols('pi')"
   ]
  },
  {
   "cell_type": "code",
   "execution_count": 84,
   "metadata": {},
   "outputs": [
    {
     "data": {
      "image/png": "[encoded data removed]",
      "text/latex": [
       "$$\\int_{0}^{b} \\sin{\\left (\\pi x \\right )}\\, dx$$"
      ],
      "text/plain": [
       "b            \n",
       "⌠            \n",
       "⎮ sin(π⋅x) dx\n",
       "⌡            \n",
       "0            "
      ]
     },
     "execution_count": 84,
     "metadata": {},
     "output_type": "execute_result"
    }
   ],
   "source": [
    "I_1 = Integral(sin(pi * x), (x, 0, b))\n",
    "I_1"
   ]
  },
  {
   "cell_type": "code",
   "execution_count": 87,
   "metadata": {},
   "outputs": [
    {
     "data": {
      "image/png": "[encoded data removed]",
      "text/latex": [
       "$$\\begin{cases} - \\frac{\\cos{\\left (b \\pi \\right )}}{\\pi} + \\frac{1}{\\pi} & \\text{for}\\: \\pi > -\\infty \\wedge \\pi < \\infty \\wedge \\pi \\neq 0 \\\\0 & \\text{otherwise} \\end{cases}$$"
      ],
      "text/plain": [
       "⎧  cos(b⋅π)   1                            \n",
       "⎪- ──────── + ─  for π > -∞ ∧ π < ∞ ∧ π ≠ 0\n",
       "⎨     π       π                            \n",
       "⎪                                          \n",
       "⎩      0                 otherwise         "
      ]
     },
     "execution_count": 87,
     "metadata": {},
     "output_type": "execute_result"
    }
   ],
   "source": [
    "I_1.doit()"
   ]
  },
  {
   "cell_type": "code",
   "execution_count": 88,
   "metadata": {},
   "outputs": [
    {
     "data": {
      "image/png": "[encoded data removed]",
      "text/latex": [
       "$$\\left\\{b \\mid b \\in \\mathbb{R} \\wedge \\frac{\\left(e^{2 i b \\pi} - 2 e^{i b \\pi} + 1\\right) e^{- i b \\pi}}{2} = 0 \\right\\}$$"
      ],
      "text/plain": [
       "⎧            ⎛ 2⋅ⅈ⋅b⋅π      ⅈ⋅b⋅π    ⎞  -ⅈ⋅b⋅π    ⎫\n",
       "⎪            ⎝ℯ        - 2⋅ℯ      + 1⎠⋅ℯ          ⎪\n",
       "⎨b | b ∊ ℝ ∧ ───────────────────────────────── = 0⎬\n",
       "⎪                            2                    ⎪\n",
       "⎩                                                 ⎭"
      ]
     },
     "execution_count": 88,
     "metadata": {},
     "output_type": "execute_result"
    }
   ],
   "source": [
    "solveset(I_1.doit(), b, domain=S.Reals)"
   ]
  },
  {
   "cell_type": "code",
   "execution_count": 89,
   "metadata": {},
   "outputs": [],
   "source": [
    "x = symbols('x')\n",
    "a = symbols('a')\n",
    "b = symbols('b')"
   ]
  },
  {
   "cell_type": "code",
   "execution_count": 90,
   "metadata": {},
   "outputs": [
    {
     "data": {
      "image/png": "[encoded data removed]",
      "text/latex": [
       "$$- a b - x^{2} + x \\left(a + b\\right)$$"
      ],
      "text/plain": [
       "        2            \n",
       "-a⋅b - x  + x⋅(a + b)"
      ]
     },
     "execution_count": 90,
     "metadata": {},
     "output_type": "execute_result"
    }
   ],
   "source": [
    "f = -x**2+(a+b)*x-a*b\n",
    "f"
   ]
  },
  {
   "cell_type": "code",
   "execution_count": 91,
   "metadata": {},
   "outputs": [
    {
     "data": {
      "image/png": "[encoded data removed]",
      "text/latex": [
       "$$2 a b + 2 x^{2} - x \\left(2 a + 2 b\\right)$$"
      ],
      "text/plain": [
       "           2                \n",
       "2⋅a⋅b + 2⋅x  - x⋅(2⋅a + 2⋅b)"
      ]
     },
     "execution_count": 91,
     "metadata": {},
     "output_type": "execute_result"
    }
   ],
   "source": [
    "g = 2*x**2-2*(a+b)*x+2*a*b\n",
    "g"
   ]
  },
  {
   "cell_type": "code",
   "execution_count": 94,
   "metadata": {},
   "outputs": [
    {
     "data": {
      "image/png": "[encoded data removed]",
      "text/latex": [
       "$$- \\frac{a b \\left(- a + 2 x\\right) \\left(- b + 2 x\\right)}{4}$$"
      ],
      "text/plain": [
       "-a⋅b⋅(-a + 2⋅x)⋅(-b + 2⋅x) \n",
       "───────────────────────────\n",
       "             4             "
      ]
     },
     "execution_count": 94,
     "metadata": {},
     "output_type": "execute_result"
    }
   ],
   "source": [
    "A_1 = factor(Integral(f,a,b).doit())\n",
    "A_1"
   ]
  },
  {
   "cell_type": "code",
   "execution_count": 96,
   "metadata": {},
   "outputs": [
    {
     "data": {
      "image/png": "[encoded data removed]",
      "text/latex": [
       "$$\\frac{a b \\left(- a + 2 x\\right) \\left(- b + 2 x\\right)}{2}$$"
      ],
      "text/plain": [
       "a⋅b⋅(-a + 2⋅x)⋅(-b + 2⋅x)\n",
       "─────────────────────────\n",
       "            2            "
      ]
     },
     "execution_count": 96,
     "metadata": {},
     "output_type": "execute_result"
    }
   ],
   "source": [
    "A_2 = factor(Integral(g,a,b).doit())\n",
    "A_2"
   ]
  },
  {
   "cell_type": "code",
   "execution_count": 97,
   "metadata": {},
   "outputs": [
    {
     "data": {
      "image/png": "[encoded data removed]",
      "text/latex": [
       "$$- \\frac{3 a b \\left(- a + 2 x\\right) \\left(- b + 2 x\\right)}{4}$$"
      ],
      "text/plain": [
       "-3⋅a⋅b⋅(-a + 2⋅x)⋅(-b + 2⋅x) \n",
       "─────────────────────────────\n",
       "              4              "
      ]
     },
     "execution_count": 97,
     "metadata": {},
     "output_type": "execute_result"
    }
   ],
   "source": [
    "A_1 - A_2"
   ]
  },
  {
   "cell_type": "code",
   "execution_count": 98,
   "metadata": {},
   "outputs": [
    {
     "data": {
      "image/png": "[encoded data removed]",
      "text/latex": [
       "$$- \\frac{1}{2}$$"
      ],
      "text/plain": [
       "-1/2"
      ]
     },
     "execution_count": 98,
     "metadata": {},
     "output_type": "execute_result"
    }
   ],
   "source": [
    "A_1/A_2"
   ]
  },
  {
   "cell_type": "code",
   "execution_count": 102,
   "metadata": {},
   "outputs": [
    {
     "data": {
      "image/png": "[encoded data removed]",
      "text/latex": [
       "$$2 a$$"
      ],
      "text/plain": [
       "2⋅a"
      ]
     },
     "execution_count": 102,
     "metadata": {},
     "output_type": "execute_result"
    }
   ],
   "source": [
    "b = 2*a\n",
    "b"
   ]
  },
  {
   "cell_type": "code",
   "execution_count": 103,
   "metadata": {},
   "outputs": [],
   "source": [
    "f = -x**2+(a+b)*x-a*b\n",
    "g = 2*x**2-2*(a+b)*x+2*a*b"
   ]
  },
  {
   "cell_type": "code",
   "execution_count": 105,
   "metadata": {},
   "outputs": [
    {
     "data": {
      "image/png": "[encoded data removed]",
      "text/latex": [
       "$$\\frac{a^{3}}{2}$$"
      ],
      "text/plain": [
       " 3\n",
       "a \n",
       "──\n",
       "2 "
      ]
     },
     "execution_count": 105,
     "metadata": {},
     "output_type": "execute_result"
    }
   ],
   "source": [
    "I_2 = factor(Integral((f-g),(x,a,b)).doit())\n",
    "I_2"
   ]
  },
  {
   "cell_type": "code",
   "execution_count": 106,
   "metadata": {},
   "outputs": [
    {
     "data": {
      "image/png": "[encoded data removed]",
      "text/latex": [
       "$$\\left\\{\\sqrt[3]{20}\\right\\}$$"
      ],
      "text/plain": [
       "⎧3 ____⎫\n",
       "⎨╲╱ 20 ⎬\n",
       "⎩      ⎭"
      ]
     },
     "execution_count": 106,
     "metadata": {},
     "output_type": "execute_result"
    }
   ],
   "source": [
    "solveset(I_2 - 10, a, domain=S.Reals)"
   ]
  },
  {
   "cell_type": "code",
   "execution_count": null,
   "metadata": {},
   "outputs": [],
   "source": []
  }
 ],
 "metadata": {
  "kernelspec": {
   "display_name": "Python 3",
   "language": "python",
   "name": "python3"
  },
  "language_info": {
   "codemirror_mode": {
    "name": "ipython",
    "version": 3
   },
   "file_extension": ".py",
   "mimetype": "text/x-python",
   "name": "python",
   "nbconvert_exporter": "python",
   "pygments_lexer": "ipython3",
   "version": "3.7.0"
  }
 },
 "nbformat": 4,
 "nbformat_minor": 2
}
