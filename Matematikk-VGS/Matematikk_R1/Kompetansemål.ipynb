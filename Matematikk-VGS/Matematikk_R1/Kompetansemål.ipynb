{
 "cells": [
  {
   "cell_type": "markdown",
   "metadata": {},
   "source": [
    "# Matematikk R1\n",
    "\n",
    "- Bruke programmering til å gjøre beregninger og utforsking av egenskaper til funksjoner\n",
    "    - Derivasjon, og likninger fra 1T?\n",
    "\n",
    "\n",
    "- bruke programmering til å undersøke gyldigheten av hypoteser\n",
    "    - ????\n"
   ]
  },
  {
   "cell_type": "code",
   "execution_count": null,
   "metadata": {},
   "outputs": [],
   "source": []
  }
 ],
 "metadata": {
  "kernelspec": {
   "display_name": "Python 3",
   "language": "python",
   "name": "python3"
  },
  "language_info": {
   "codemirror_mode": {
    "name": "ipython",
    "version": 3
   },
   "file_extension": ".py",
   "mimetype": "text/x-python",
   "name": "python",
   "nbconvert_exporter": "python",
   "pygments_lexer": "ipython3",
   "version": "3.7.0"
  }
 },
 "nbformat": 4,
 "nbformat_minor": 2
}
