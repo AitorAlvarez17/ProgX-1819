{
 "cells": [
  {
   "cell_type": "markdown",
   "metadata": {},
   "source": [
    "# 4.1 if-tester\n",
    "**Beslutninger**"
   ]
  },
  {
   "cell_type": "markdown",
   "metadata": {},
   "source": [
    "```python\n",
    "if <kriterum>:\n",
    "    <utfør noe>\n",
    "elif <et annet kriterium>:\n",
    "    <utfør noe annet>\n",
    "else:\n",
    "    <utfør enda noe annet>\n",
    "```"
   ]
  },
  {
   "cell_type": "markdown",
   "metadata": {},
   "source": [
    "<img src='innrykk.png' width=300px>"
   ]
  },
  {
   "cell_type": "markdown",
   "metadata": {},
   "source": [
    "#### Type 1 (if)\n",
    "```python\n",
    "if kriterium\n",
    "     <blokk med kode som utføres når kriterium==True>\n",
    "```"
   ]
  },
  {
   "cell_type": "code",
   "execution_count": null,
   "metadata": {},
   "outputs": [],
   "source": []
  },
  {
   "cell_type": "markdown",
   "metadata": {},
   "source": [
    "#### Type 2 (if-else)\n",
    "```python\n",
    "if kriterium\n",
    "     <blokk med kode som utføres når kriterium==True>\n",
    "else:\n",
    "     <blokk med kode som utføres når kriterium==False>\n",
    "```"
   ]
  },
  {
   "cell_type": "code",
   "execution_count": null,
   "metadata": {},
   "outputs": [],
   "source": []
  },
  {
   "cell_type": "markdown",
   "metadata": {},
   "source": [
    "#### Type 3 (if-elif-else)\n",
    "```python\n",
    "if kriterium1\n",
    "     <blokk med kode>\n",
    "elif kriterium2:\n",
    "     <blokk med kode>\n",
    "elif kriterium3:\n",
    "     <blokk med kode>\n",
    "else:\n",
    "     <blokk med kode>\n",
    "```"
   ]
  },
  {
   "cell_type": "markdown",
   "metadata": {},
   "source": [
    "#### Eksempel 1\n",
    "<img src='eksempel1.png' width='400px'>"
   ]
  },
  {
   "cell_type": "code",
   "execution_count": 24,
   "metadata": {},
   "outputs": [],
   "source": [
    "# Løsning\n"
   ]
  },
  {
   "cell_type": "markdown",
   "metadata": {},
   "source": [
    "### Boolske uttrykk"
   ]
  },
  {
   "cell_type": "code",
   "execution_count": 22,
   "metadata": {},
   "outputs": [],
   "source": [
    "a = 2\n",
    "b = 3"
   ]
  },
  {
   "cell_type": "code",
   "execution_count": null,
   "metadata": {},
   "outputs": [],
   "source": []
  },
  {
   "cell_type": "markdown",
   "metadata": {},
   "source": [
    "#### Eksempel 2\n",
    "Lag et program som spør brukeren om hvor høyt norges høyeste fjell er. Skriv ut en kommentar som avhenger av om høyden er under eller over 2469moh. Utvid programmet til å skille mellom flere aldre."
   ]
  },
  {
   "cell_type": "code",
   "execution_count": null,
   "metadata": {},
   "outputs": [],
   "source": []
  }
 ],
 "metadata": {
  "kernelspec": {
   "display_name": "Python 3",
   "language": "python",
   "name": "python3"
  },
  "language_info": {
   "codemirror_mode": {
    "name": "ipython",
    "version": 3
   },
   "file_extension": ".py",
   "mimetype": "text/x-python",
   "name": "python",
   "nbconvert_exporter": "python",
   "pygments_lexer": "ipython3",
   "version": "3.6.6"
  }
 },
 "nbformat": 4,
 "nbformat_minor": 2
}
