{
 "cells": [
  {
   "cell_type": "markdown",
   "metadata": {},
   "source": [
    "# Newtons metode"
   ]
  },
  {
   "cell_type": "markdown",
   "metadata": {},
   "source": [
    "### Den deriverte:"
   ]
  },
  {
   "cell_type": "code",
   "execution_count": 1,
   "metadata": {},
   "outputs": [],
   "source": [
    "def derivert(f, a, h=10**-8):\n",
    "    return (f(a + h) - f(a))/h"
   ]
  },
  {
   "cell_type": "markdown",
   "metadata": {},
   "source": [
    "### Neste x-verdi\n",
    "\n",
    "<a href='https://www.geogebra.org/m/n6KXp4hE'>GeoGebra</a>\n",
    "\n",
    "$$x_{n+1}=x_n-\\frac{f(x_n)}{f^\\prime(x_n)}$$\n",
    "\n",
    "### Newtons metode"
   ]
  },
  {
   "cell_type": "code",
   "execution_count": 21,
   "metadata": {},
   "outputs": [],
   "source": [
    "def newtons_metode(f, x_0, N=1000):\n",
    "    for n in range(N):\n",
    "        x_0 = x_0 - f(x_0)/derivert(f, x_0)\n",
    "    return x_0"
   ]
  },
  {
   "cell_type": "code",
   "execution_count": 26,
   "metadata": {},
   "outputs": [],
   "source": [
    "def f(x):\n",
    "    return x**2-4"
   ]
  },
  {
   "cell_type": "code",
   "execution_count": 28,
   "metadata": {},
   "outputs": [
    {
     "name": "stdout",
     "output_type": "stream",
     "text": [
      "Nullpunkt: x = -2.00\n"
     ]
    }
   ],
   "source": [
    "print(f'Nullpunkt: x = {newtons_metode(f, -1):.2f}')"
   ]
  },
  {
   "cell_type": "code",
   "execution_count": 36,
   "metadata": {},
   "outputs": [
    {
     "name": "stdout",
     "output_type": "stream",
     "text": [
      "Nullpunkt: x = -2.00\n",
      "Nullpunkt: x = 2.00\n"
     ]
    }
   ],
   "source": [
    "x_0 = [-0.1,1] \n",
    "for i in range(len(x_0)):\n",
    "    print(f'Nullpunkt: x = {newtons_metode(f, x_0[i]):.2f}')"
   ]
  },
  {
   "cell_type": "code",
   "execution_count": null,
   "metadata": {},
   "outputs": [],
   "source": []
  }
 ],
 "metadata": {
  "kernelspec": {
   "display_name": "Python 3",
   "language": "python",
   "name": "python3"
  },
  "language_info": {
   "codemirror_mode": {
    "name": "ipython",
    "version": 3
   },
   "file_extension": ".py",
   "mimetype": "text/x-python",
   "name": "python",
   "nbconvert_exporter": "python",
   "pygments_lexer": "ipython3",
   "version": "3.7.1"
  }
 },
 "nbformat": 4,
 "nbformat_minor": 2
}
