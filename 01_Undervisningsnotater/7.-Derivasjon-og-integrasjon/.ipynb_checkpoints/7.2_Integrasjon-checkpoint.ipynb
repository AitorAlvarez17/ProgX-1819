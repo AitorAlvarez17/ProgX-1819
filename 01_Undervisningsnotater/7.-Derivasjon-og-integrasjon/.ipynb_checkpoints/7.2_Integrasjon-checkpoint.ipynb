{
 "cells": [
  {
   "cell_type": "markdown",
   "metadata": {},
   "source": [
    "# 7.2 Integrasjon "
   ]
  },
  {
   "cell_type": "code",
   "execution_count": 57,
   "metadata": {},
   "outputs": [],
   "source": [
    "import numpy as np"
   ]
  },
  {
   "cell_type": "code",
   "execution_count": 106,
   "metadata": {},
   "outputs": [],
   "source": [
    "def rektangelmetoden(f, a, b, n):\n",
    "    total = 0\n",
    "    h = (b - a)/n\n",
    "    for k in range(n):\n",
    "        total = total + f(a + (k*h))\n",
    "    \n",
    "    return h * total"
   ]
  },
  {
   "cell_type": "code",
   "execution_count": 107,
   "metadata": {},
   "outputs": [],
   "source": [
    "def rektangelmetoden_np(f, a, b, n):\n",
    "    h = (b - a)/n\n",
    "    k = np.arange(n)\n",
    "    return h * np.sum(f(a + (k*h)))"
   ]
  },
  {
   "cell_type": "code",
   "execution_count": 99,
   "metadata": {},
   "outputs": [],
   "source": [
    "def g(x):\n",
    "    return x"
   ]
  },
  {
   "cell_type": "code",
   "execution_count": 102,
   "metadata": {},
   "outputs": [
    {
     "name": "stdout",
     "output_type": "stream",
     "text": [
      "1.998\n",
      "1.998\n"
     ]
    }
   ],
   "source": [
    "print(rektangelmetoden(g, 0, 2, 1000))\n",
    "print(rektangelmetoden_np(g, 0, 2, 1000))"
   ]
  },
  {
   "cell_type": "code",
   "execution_count": 103,
   "metadata": {},
   "outputs": [],
   "source": [
    "def h(x):\n",
    "    return x**2"
   ]
  },
  {
   "cell_type": "code",
   "execution_count": 105,
   "metadata": {},
   "outputs": [
    {
     "name": "stdout",
     "output_type": "stream",
     "text": [
      "5.333343999999998\n",
      "5.333344\n"
     ]
    }
   ],
   "source": [
    "print(rektangelmetoden(h, -2, 2, 1000))\n",
    "print(rektangelmetoden_np(h, -2, 2, 1000))"
   ]
  },
  {
   "cell_type": "code",
   "execution_count": 49,
   "metadata": {},
   "outputs": [
    {
     "data": {
      "text/plain": [
       "5.333333333333333"
      ]
     },
     "execution_count": 49,
     "metadata": {},
     "output_type": "execute_result"
    }
   ],
   "source": [
    "16/3"
   ]
  }
 ],
 "metadata": {
  "kernelspec": {
   "display_name": "Python 3",
   "language": "python",
   "name": "python3"
  },
  "language_info": {
   "codemirror_mode": {
    "name": "ipython",
    "version": 3
   },
   "file_extension": ".py",
   "mimetype": "text/x-python",
   "name": "python",
   "nbconvert_exporter": "python",
   "pygments_lexer": "ipython3",
   "version": "3.7.1"
  }
 },
 "nbformat": 4,
 "nbformat_minor": 2
}
