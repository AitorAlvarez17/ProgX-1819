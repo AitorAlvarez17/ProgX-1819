{
 "cells": [
  {
   "cell_type": "markdown",
   "metadata": {},
   "source": [
    "# Derivasjon"
   ]
  },
  {
   "cell_type": "markdown",
   "metadata": {},
   "source": [
    "## Definisjonen av den deriverte\n",
    "\n",
    "Den deriverte til en funksjon $f$ i et punkt $a$ er stigningstallet mellom a og et punkt som er uendelig a. Vi kaller dette punktet $a+\\Delta x$, og den deriverte er gitt ved:\n",
    "\n",
    "$$f'(a)=\\lim_{\\Delta x \\rightarrow 0} \\frac{f(a+\\Delta x) - f(a)}{\\Delta x}$$"
   ]
  },
  {
   "cell_type": "markdown",
   "metadata": {},
   "source": [
    "## Newtons kvotient\n",
    "Vi tilnærmer den deriverte med Newtons kvotient. Den deriverte til en funksjon $f$ kan tilnærmes slik dersom $\\Delta x$ er liten.\n",
    "\n",
    "$$f'(a)=\\lim_{\\Delta x \\rightarrow 0} \\frac{f(a+\\Delta x) - f(a)}{\\Delta x} \\approx \\frac{f(a+\\Delta x) - f(a)}{\\Delta x}$$"
   ]
  },
  {
   "cell_type": "markdown",
   "metadata": {},
   "source": [
    "## Implimentering i Python"
   ]
  },
  {
   "cell_type": "code",
   "execution_count": 6,
   "metadata": {},
   "outputs": [],
   "source": [
    "def derivert(f, a, delta_x):\n",
    "    f_der = (f(a + delta_x) - f(a))/delta_x\n",
    "    return f_der"
   ]
  },
  {
   "cell_type": "markdown",
   "metadata": {},
   "source": [
    "## Eksempel"
   ]
  },
  {
   "cell_type": "markdown",
   "metadata": {},
   "source": [
    "### Eksempel 1:\n",
    "$f(x)=2x^2 - 5$\n",
    "\n",
    "Hva er $f'(2)$?"
   ]
  },
  {
   "cell_type": "code",
   "execution_count": 9,
   "metadata": {},
   "outputs": [],
   "source": [
    "def f(x):\n",
    "    return 2*x**2 - 5"
   ]
  },
  {
   "cell_type": "code",
   "execution_count": 17,
   "metadata": {},
   "outputs": [
    {
     "name": "stdout",
     "output_type": "stream",
     "text": [
      "f´(2) = 8.00\n"
     ]
    }
   ],
   "source": [
    "f_der_2 = derivert(f, 2, 1E-8)\n",
    "\n",
    "print(f\"f´(2) = {f_der_2:.2f}\")"
   ]
  },
  {
   "cell_type": "markdown",
   "metadata": {},
   "source": [
    "### Eksempel 2:\n",
    "$g(x)=x^2 -6x + 8$\n",
    "\n",
    "Hva er $f'(1)$ og $f'(5)$?"
   ]
  },
  {
   "cell_type": "code",
   "execution_count": 18,
   "metadata": {},
   "outputs": [],
   "source": [
    "def g(x):\n",
    "    return x**2 - 6*x + 8"
   ]
  },
  {
   "cell_type": "code",
   "execution_count": 22,
   "metadata": {},
   "outputs": [
    {
     "name": "stdout",
     "output_type": "stream",
     "text": [
      "f´(1) = -4.00\n",
      "f´(5) = 4.00\n"
     ]
    }
   ],
   "source": [
    "f_der_1 = derivert(g, 1, 1E-8)\n",
    "f_der_5 = derivert(g, 5, 1E-8)\n",
    "\n",
    "print(f'f´(1) = {f_der_1:.2f}')\n",
    "print(f'f´(5) = {f_der_5:.2f}')"
   ]
  },
  {
   "cell_type": "markdown",
   "metadata": {},
   "source": [
    "## Oppgaver\n",
    "\n",
    "### Oppgave 1\n",
    "\n",
    "$h(x)=-2x^2 + 8x - 12$\n",
    "\n",
    "Hva er $f'(-3)$ og $f'(2)$?"
   ]
  },
  {
   "cell_type": "code",
   "execution_count": 88,
   "metadata": {},
   "outputs": [],
   "source": [
    "# Løsningen din her"
   ]
  },
  {
   "cell_type": "markdown",
   "metadata": {},
   "source": [
    "### Oppgave 2\n",
    "\n",
    " - Velg din favorittfunksjon.\n",
    " - Regn ut den numerisk deriverte i et punkt, og sammenlign med den eksakte verdien\n",
    " - Varier Δ𝑥. Lag en tabell med Δ𝑥 og feilen. La Δ𝑥 variere fra f.eks. 10−1 til 10−16. \n",
    " - Hva observerer du? \n",
    " - Bør man alltid velge minst mulig Δ𝑥?"
   ]
  },
  {
   "cell_type": "code",
   "execution_count": 89,
   "metadata": {},
   "outputs": [],
   "source": [
    "# Løsningen din her"
   ]
  },
  {
   "cell_type": "markdown",
   "metadata": {},
   "source": [
    "## Ekstremalpunkt"
   ]
  },
  {
   "cell_type": "code",
   "execution_count": 83,
   "metadata": {},
   "outputs": [],
   "source": [
    "def ekstremalpunkt(f, a, b, N):\n",
    "    for i in range(N):\n",
    "        m = (a + b)/2\n",
    "        if derivert(f, a, 1E-8) * derivert(f, m, 1E-8) <= 0:\n",
    "            b = m\n",
    "        else:\n",
    "            a = m\n",
    "        \n",
    "    return m"
   ]
  },
  {
   "cell_type": "code",
   "execution_count": 86,
   "metadata": {},
   "outputs": [
    {
     "name": "stdout",
     "output_type": "stream",
     "text": [
      "Bunnpunkt = (-0.000, -5.000)\n"
     ]
    }
   ],
   "source": [
    "x_bunn = ekstremalpunkt(f, -1, 3, 16)\n",
    "print(f'Bunnpunkt = ({x_bunn:.3f}, {f(x_bunn):.3f})')"
   ]
  },
  {
   "cell_type": "code",
   "execution_count": null,
   "metadata": {},
   "outputs": [],
   "source": []
  },
  {
   "cell_type": "markdown",
   "metadata": {},
   "source": [
    "## Bilder"
   ]
  },
  {
   "cell_type": "code",
   "execution_count": null,
   "metadata": {},
   "outputs": [],
   "source": [
    "bilde = imread(\"bilde.png\") \n",
    "imshow(bilde)\n",
    "savefig(\"original.png\")"
   ]
  }
 ],
 "metadata": {
  "kernelspec": {
   "display_name": "Python 3",
   "language": "python",
   "name": "python3"
  },
  "language_info": {
   "codemirror_mode": {
    "name": "ipython",
    "version": 3
   },
   "file_extension": ".py",
   "mimetype": "text/x-python",
   "name": "python",
   "nbconvert_exporter": "python",
   "pygments_lexer": "ipython3",
   "version": "3.7.0"
  }
 },
 "nbformat": 4,
 "nbformat_minor": 2
}
