{
 "cells": [
  {
   "cell_type": "markdown",
   "metadata": {},
   "source": [
    "### 1. Installer nyeste stabile NodeJs \n",
    "   - skriv inn i terminal:\n",
    "```\n",
    "conda install -c conda-forge nodejs \n",
    "```\n",
    "\n",
    "\n",
    "### 2. Oppdater alt i conda\n",
    "   - skriv inn i terminal:\n",
    "```\n",
    "conda update --all\n",
    "```\n",
    "\n",
    "Jeg måtte oppdater nodejs også \n",
    "    - skriv inn i terminal:\n",
    "```\n",
    "conda update -c conda-forge nodejs \n",
    "```\n",
    "\n",
    "### 3. Aktiver Extension Manager\n",
    "\n",
    "Restart Jupyterlab først.\n",
    "\n",
    "<img src='settings.png' width='200px' style='float:left'>\n",
    "<img src='extention_manager.png' width='600px'>\n",
    ".\n",
    "\n",
    "### 5. Søk på plotly i Extention Manager\n",
    "\n",
    "<img src='plotly.png' width='200px' >\n",
    "\n",
    "Installer plotly-extension\n",
    "\n",
    "### 6. Søk på jupyterlab-manager i Extention Manager\n",
    "\n",
    "Installer jupyterlab-manager\n",
    "\n",
    "\n",
    "Nå skal extensioin manager se slik ut (minus Material Theme og plotlywidget):\n",
    "\n",
    "<img src='emf.png' width='200px' >\n",
    "\n",
    "\n",
    "### 7. Legg til plotly \n",
    "\n",
    "<img src='anaconda.png'>\n",
    "\n",
    "\n",
    "### 8. Installer Plotly Widget \n",
    "   - skriv inn i terminal:  \n",
    "```\n",
    "jupyter labextension install plotlywidget\n",
    "```\n",
    "\n",
    "\n",
    "### 9. De som ønsker Material Theme:\n",
    "   - skriv inn i terminal:\n",
    "```\n",
    "jupyter labextension install @oriolmirosa/jupyterlab_materialdarker\n",
    "```\n",
    "\n",
    "\n",
    "\n",
    "<img src='theme.png' width='200px'>\n"
   ]
  },
  {
   "cell_type": "markdown",
   "metadata": {},
   "source": [
    "# Eksempel 1"
   ]
  },
  {
   "cell_type": "code",
   "execution_count": 64,
   "metadata": {},
   "outputs": [
    {
     "data": {
      "application/vnd.jupyter.widget-view+json": {
       "model_id": "fc8871a37d5f4a39973e74b74aa605a5",
       "version_major": 2,
       "version_minor": 0
      },
      "text/plain": [
       "IntSlider(value=0)"
      ]
     },
     "metadata": {},
     "output_type": "display_data"
    }
   ],
   "source": [
    "# glider skal vi bruke senere\n",
    "import ipywidgets\n",
    "ipywidgets.IntSlider()"
   ]
  },
  {
   "cell_type": "code",
   "execution_count": 65,
   "metadata": {},
   "outputs": [],
   "source": [
    "import plotly.graph_objs as go\n",
    "import numpy as np"
   ]
  },
  {
   "cell_type": "code",
   "execution_count": 38,
   "metadata": {},
   "outputs": [
    {
     "data": {
      "application/vnd.jupyter.widget-view+json": {
       "model_id": "b42f0aa055894449ab73398c84581523",
       "version_major": 2,
       "version_minor": 0
      },
      "text/plain": [
       "FigureWidget({\n",
       "    'data': [], 'layout': {}\n",
       "})"
      ]
     },
     "metadata": {},
     "output_type": "display_data"
    }
   ],
   "source": [
    "fig = go.FigureWidget()\n",
    "fig"
   ]
  },
  {
   "cell_type": "code",
   "execution_count": 39,
   "metadata": {},
   "outputs": [],
   "source": [
    "x = np.arange(1,8)\n",
    "y = np.array([2, 1, 4, 3,10,20,3])\n",
    "fig.add_scatter(x=x, y=y)\n",
    "fig.layout.title = 'Biler'\n",
    "fig.layout.titlefont.size = 30\n",
    "fig.layout.yaxis.title = 'Antall biler'\n",
    "fig.layout.xaxis.title = 'Tid (timer)'"
   ]
  },
  {
   "cell_type": "markdown",
   "metadata": {
    "toc-hr-collapsed": false
   },
   "source": [
    "# Eksempel 2"
   ]
  },
  {
   "cell_type": "code",
   "execution_count": 41,
   "metadata": {},
   "outputs": [],
   "source": [
    "import plotly.graph_objs as go\n",
    "import numpy as np"
   ]
  },
  {
   "cell_type": "code",
   "execution_count": 42,
   "metadata": {},
   "outputs": [],
   "source": [
    "def f(t):\n",
    "    return np.exp(-t)*np.cos(2*np.pi*t)"
   ]
  },
  {
   "cell_type": "code",
   "execution_count": 43,
   "metadata": {},
   "outputs": [],
   "source": [
    "def g(t):\n",
    "    return np.exp(-t)*np.sin(2*np.pi*t)"
   ]
  },
  {
   "cell_type": "code",
   "execution_count": 44,
   "metadata": {},
   "outputs": [],
   "source": [
    "t = np.arange(0, 5, 0.02)"
   ]
  },
  {
   "cell_type": "code",
   "execution_count": 58,
   "metadata": {},
   "outputs": [],
   "source": [
    "fig2 = go.FigureWidget()"
   ]
  },
  {
   "cell_type": "code",
   "execution_count": 59,
   "metadata": {},
   "outputs": [
    {
     "data": {
      "application/vnd.jupyter.widget-view+json": {
       "model_id": "7581dcc152f84ef1a4d21d30bf96a272",
       "version_major": 2,
       "version_minor": 0
      },
      "text/plain": [
       "FigureWidget({\n",
       "    'data': [], 'layout': {}\n",
       "})"
      ]
     },
     "metadata": {},
     "output_type": "display_data"
    }
   ],
   "source": [
    "fig2"
   ]
  },
  {
   "cell_type": "code",
   "execution_count": 60,
   "metadata": {},
   "outputs": [],
   "source": [
    "linje1 = fig2.add_scatter(y=f(t))"
   ]
  },
  {
   "cell_type": "code",
   "execution_count": 61,
   "metadata": {},
   "outputs": [],
   "source": [
    "linje2 = fig2.add_scatter(y=g(t))"
   ]
  },
  {
   "cell_type": "code",
   "execution_count": 62,
   "metadata": {},
   "outputs": [],
   "source": [
    "fig2.layout.title = 'Eksempel 2'"
   ]
  },
  {
   "cell_type": "code",
   "execution_count": 63,
   "metadata": {},
   "outputs": [],
   "source": [
    "fig2.layout.xaxis.title = 't'"
   ]
  },
  {
   "cell_type": "code",
   "execution_count": 64,
   "metadata": {},
   "outputs": [],
   "source": [
    "linje1.name = 'f(t)'"
   ]
  },
  {
   "cell_type": "code",
   "execution_count": 65,
   "metadata": {},
   "outputs": [],
   "source": [
    "linje2.name = 'g(t)'"
   ]
  },
  {
   "cell_type": "markdown",
   "metadata": {},
   "source": [
    " **Man kan tilpasse fargene**"
   ]
  },
  {
   "cell_type": "code",
   "execution_count": null,
   "metadata": {},
   "outputs": [],
   "source": []
  },
  {
   "cell_type": "code",
   "execution_count": 66,
   "metadata": {},
   "outputs": [],
   "source": [
    "def make_dark_plot(fig):\n",
    "    fig.layout.paper_bgcolor='#212121'\n",
    "    fig.layout.plot_bgcolor='#212121'\n",
    "    fig.layout.titlefont.color='#ff7f0e'\n",
    "    fig.layout.xaxis.titlefont.color = 'lightgrey'\n",
    "    fig.layout.xaxis.tickfont.color = 'lightgrey'\n",
    "    fig.layout.yaxis.titlefont.color = 'lightgrey'\n",
    "    fig.layout.yaxis.tickfont.color = 'lightgrey'\n",
    "    fig.layout.legend.font.color = 'lightgrey'"
   ]
  },
  {
   "cell_type": "code",
   "execution_count": 67,
   "metadata": {},
   "outputs": [],
   "source": [
    "make_dark_plot(fig2)"
   ]
  },
  {
   "cell_type": "code",
   "execution_count": null,
   "metadata": {},
   "outputs": [],
   "source": []
  }
 ],
 "metadata": {
  "kernelspec": {
   "display_name": "Python 3",
   "language": "python",
   "name": "python3"
  },
  "language_info": {
   "codemirror_mode": {
    "name": "ipython",
    "version": 3
   },
   "file_extension": ".py",
   "mimetype": "text/x-python",
   "name": "python",
   "nbconvert_exporter": "python",
   "pygments_lexer": "ipython3",
   "version": "3.6.6"
  }
 },
 "nbformat": 4,
 "nbformat_minor": 2
}
