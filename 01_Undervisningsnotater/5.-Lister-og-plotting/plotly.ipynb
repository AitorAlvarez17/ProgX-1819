{
 "cells": [
  {
   "cell_type": "markdown",
   "metadata": {},
   "source": [
    "# Plotly og bqplot\n",
    "<img src='skjerm.png'>\n",
    "\n",
    "### 1. Installer nyeste stabile NodeJs \n",
    "   - skriv inn i terminal:\n",
    "```\n",
    "conda install -c conda-forge nodejs \n",
    "```\n",
    "\n",
    "\n",
    "### 2. Oppdater alt i conda\n",
    "   - skriv inn i terminal:\n",
    "```\n",
    "conda update --all\n",
    "```\n",
    "\n",
    "Jeg måtte oppdater nodejs også \n",
    "    - skriv inn i terminal:\n",
    "```\n",
    "conda update -c conda-forge nodejs \n",
    "```\n",
    "\n",
    "### 3. Aktiver Extension Manager\n",
    "\n",
    "Restart Jupyterlab først.\n",
    "\n",
    "<img src='settings.png' width='200px' style='float:left'>\n",
    "<img src='extention_manager.png' width='600px'>\n",
    ".\n",
    "\n",
    "### 5. Søk på plotly i Extention Manager\n",
    "\n",
    "<img src='plotly.png' width='200px' >\n",
    "\n",
    "Installer plotly-extension\n",
    "\n",
    "### 6. Søk på jupyterlab-manager i Extention Manager\n",
    "\n",
    "Installer jupyterlab-manager\n",
    "\n",
    "\n",
    "Nå skal extensioin manager se slik ut (minus Material Theme og plotlywidget):\n",
    "\n",
    "<img src='emf.png' width='200px' >\n",
    "\n",
    "\n",
    "### 7. Legg til plotly \n",
    "\n",
    "<img src='anaconda.png'>\n",
    "\n",
    "\n",
    "### 8. Installer Plotly Widget \n",
    "   - skriv inn i terminal:  \n",
    "```\n",
    "jupyter labextension install plotlywidget\n",
    "```\n",
    "\n",
    "\n",
    "### 9. bqplot\n",
    "   - skriv inn i terminal:  \n",
    "```\n",
    "conda install -c conda-forge bqplot\n",
    "```\n",
    "og\n",
    "```\n",
    "jupyter labextension install bqplot\n",
    "```\n",
    "\n",
    "<a href='https://bqplot.readthedocs.io/en/latest/'>bqplot-dokumentasjon</a>\n",
    "\n",
    "\n",
    "### 10. De som ønsker Material Theme:\n",
    "   - skriv inn i terminal:\n",
    "```\n",
    "jupyter labextension install @oriolmirosa/jupyterlab_materialdarker\n",
    "```\n",
    "\n",
    "<img src='theme.png' width='200px'>"
   ]
  },
  {
   "cell_type": "markdown",
   "metadata": {},
   "source": [
    "# Eksempel 1"
   ]
  },
  {
   "cell_type": "code",
   "execution_count": 15,
   "metadata": {},
   "outputs": [
    {
     "data": {
      "application/vnd.jupyter.widget-view+json": {
       "model_id": "29018500f7f2439187b0a2f5f50a76b7",
       "version_major": 2,
       "version_minor": 0
      },
      "text/plain": [
       "IntSlider(value=0)"
      ]
     },
     "metadata": {},
     "output_type": "display_data"
    }
   ],
   "source": [
    "# glider skal vi bruke senere\n",
    "import ipywidgets\n",
    "ipywidgets.IntSlider()"
   ]
  },
  {
   "cell_type": "code",
   "execution_count": 16,
   "metadata": {},
   "outputs": [],
   "source": [
    "import plotly.graph_objs as go\n",
    "import numpy as np"
   ]
  },
  {
   "cell_type": "code",
   "execution_count": 17,
   "metadata": {},
   "outputs": [
    {
     "data": {
      "application/vnd.jupyter.widget-view+json": {
       "model_id": "90733cdce95d4f2bb8dadc1b0d37cf8b",
       "version_major": 2,
       "version_minor": 0
      },
      "text/plain": [
       "FigureWidget({\n",
       "    'data': [], 'layout': {}\n",
       "})"
      ]
     },
     "metadata": {},
     "output_type": "display_data"
    }
   ],
   "source": [
    "fig = go.FigureWidget()\n",
    "fig"
   ]
  },
  {
   "cell_type": "code",
   "execution_count": 18,
   "metadata": {},
   "outputs": [],
   "source": [
    "x = np.arange(1,8)\n",
    "y = np.array([2, 1, 4, 3,10,20,3])\n",
    "fig.add_scatter(x=x, y=y)\n",
    "fig.layout.title = 'Biler'\n",
    "fig.layout.titlefont.size = 30\n",
    "fig.layout.yaxis.title = 'Antall biler'\n",
    "fig.layout.xaxis.title = 'Tid (timer)'"
   ]
  },
  {
   "cell_type": "markdown",
   "metadata": {
    "toc-hr-collapsed": false
   },
   "source": [
    "# Eksempel 2"
   ]
  },
  {
   "cell_type": "code",
   "execution_count": 19,
   "metadata": {},
   "outputs": [],
   "source": [
    "import plotly.graph_objs as go\n",
    "import numpy as np"
   ]
  },
  {
   "cell_type": "code",
   "execution_count": 20,
   "metadata": {},
   "outputs": [],
   "source": [
    "def f(t):\n",
    "    return np.exp(-t)*np.cos(2*np.pi*t)"
   ]
  },
  {
   "cell_type": "code",
   "execution_count": 21,
   "metadata": {},
   "outputs": [],
   "source": [
    "def g(t):\n",
    "    return np.exp(-t)*np.sin(2*np.pi*t)"
   ]
  },
  {
   "cell_type": "code",
   "execution_count": 22,
   "metadata": {},
   "outputs": [],
   "source": [
    "t = np.arange(0, 5, 0.02)"
   ]
  },
  {
   "cell_type": "code",
   "execution_count": 23,
   "metadata": {},
   "outputs": [],
   "source": [
    "fig2 = go.FigureWidget()"
   ]
  },
  {
   "cell_type": "code",
   "execution_count": 24,
   "metadata": {},
   "outputs": [
    {
     "data": {
      "application/vnd.jupyter.widget-view+json": {
       "model_id": "8bf0fbb32c9d461b9bc15b36710c8ef1",
       "version_major": 2,
       "version_minor": 0
      },
      "text/plain": [
       "FigureWidget({\n",
       "    'data': [], 'layout': {}\n",
       "})"
      ]
     },
     "metadata": {},
     "output_type": "display_data"
    }
   ],
   "source": [
    "fig2"
   ]
  },
  {
   "cell_type": "code",
   "execution_count": 25,
   "metadata": {},
   "outputs": [],
   "source": [
    "linje1 = fig2.add_scatter(y=f(t))"
   ]
  },
  {
   "cell_type": "code",
   "execution_count": 26,
   "metadata": {},
   "outputs": [],
   "source": [
    "linje2 = fig2.add_scatter(y=g(t))"
   ]
  },
  {
   "cell_type": "code",
   "execution_count": 27,
   "metadata": {},
   "outputs": [],
   "source": [
    "fig2.layout.title = 'Eksempel 2'"
   ]
  },
  {
   "cell_type": "code",
   "execution_count": 28,
   "metadata": {},
   "outputs": [],
   "source": [
    "fig2.layout.xaxis.title = 't'"
   ]
  },
  {
   "cell_type": "code",
   "execution_count": 29,
   "metadata": {},
   "outputs": [],
   "source": [
    "linje1.name = 'f(t)'"
   ]
  },
  {
   "cell_type": "code",
   "execution_count": 30,
   "metadata": {},
   "outputs": [],
   "source": [
    "linje2.name = 'g(t)'"
   ]
  },
  {
   "cell_type": "markdown",
   "metadata": {},
   "source": [
    " **Man kan tilpasse fargene**"
   ]
  },
  {
   "cell_type": "code",
   "execution_count": null,
   "metadata": {},
   "outputs": [],
   "source": []
  },
  {
   "cell_type": "code",
   "execution_count": 31,
   "metadata": {},
   "outputs": [],
   "source": [
    "def make_dark_plot(fig):\n",
    "    fig.layout.paper_bgcolor='#212121'\n",
    "    fig.layout.plot_bgcolor='#212121'\n",
    "    fig.layout.titlefont.color='#ff7f0e'\n",
    "    fig.layout.xaxis.titlefont.color = 'lightgrey'\n",
    "    fig.layout.xaxis.tickfont.color = 'lightgrey'\n",
    "    fig.layout.yaxis.titlefont.color = 'lightgrey'\n",
    "    fig.layout.yaxis.tickfont.color = 'lightgrey'\n",
    "    fig.layout.legend.font.color = 'lightgrey'"
   ]
  },
  {
   "cell_type": "code",
   "execution_count": 32,
   "metadata": {},
   "outputs": [],
   "source": [
    "make_dark_plot(fig2)"
   ]
  },
  {
   "cell_type": "code",
   "execution_count": null,
   "metadata": {},
   "outputs": [],
   "source": []
  }
 ],
 "metadata": {
  "kernelspec": {
   "display_name": "Python 3",
   "language": "python",
   "name": "python3"
  },
  "language_info": {
   "codemirror_mode": {
    "name": "ipython",
    "version": 3
   },
   "file_extension": ".py",
   "mimetype": "text/x-python",
   "name": "python",
   "nbconvert_exporter": "python",
   "pygments_lexer": "ipython3",
   "version": "3.6.6"
  }
 },
 "nbformat": 4,
 "nbformat_minor": 2
}
