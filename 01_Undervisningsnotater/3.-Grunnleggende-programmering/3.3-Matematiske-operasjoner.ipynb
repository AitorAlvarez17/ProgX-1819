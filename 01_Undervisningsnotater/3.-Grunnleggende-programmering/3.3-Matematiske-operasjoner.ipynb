{
 "cells": [
  {
   "cell_type": "markdown",
   "metadata": {},
   "source": [
    "# 3.3 Matematiske operasjoner"
   ]
  },
  {
   "cell_type": "markdown",
   "metadata": {},
   "source": [
    "Pytonharfølgendematteoperatorer: + - * / // % **\n",
    "\n",
    "Ved utrekning er blir disse utført ut i fra en prioritering av hvilke operatorer som utføres først:\n",
    "\n",
    "1.  Eksponent: **\n",
    "2.  Multiplikasjon, divisjon og rest av divisjon: * / // %\n",
    "3.  Addisjon og subtraksjon: + -\n",
    "4.  Det vil si at uttrykket: 12 + 6/3 blir 14 og ikke 6 (6/3 blir utført først)"
   ]
  },
  {
   "cell_type": "code",
   "execution_count": 2,
   "metadata": {},
   "outputs": [
    {
     "data": {
      "text/plain": [
       "14.0"
      ]
     },
     "execution_count": 2,
     "metadata": {},
     "output_type": "execute_result"
    }
   ],
   "source": [
    "12 + 6 / 3"
   ]
  },
  {
   "cell_type": "markdown",
   "metadata": {},
   "source": [
    "For å sikre korrekte beregninger bruker man parenteser:"
   ]
  },
  {
   "cell_type": "code",
   "execution_count": 3,
   "metadata": {},
   "outputs": [
    {
     "data": {
      "text/plain": [
       "6.0"
      ]
     },
     "execution_count": 3,
     "metadata": {},
     "output_type": "execute_result"
    }
   ],
   "source": [
    "(12 + 6) / 3"
   ]
  },
  {
   "cell_type": "code",
   "execution_count": 7,
   "metadata": {},
   "outputs": [
    {
     "data": {
      "text/plain": [
       "2.5"
      ]
     },
     "execution_count": 7,
     "metadata": {},
     "output_type": "execute_result"
    }
   ],
   "source": [
    "10 / (5-3)**2"
   ]
  },
  {
   "cell_type": "code",
   "execution_count": 9,
   "metadata": {},
   "outputs": [
    {
     "data": {
      "text/plain": [
       "25.0"
      ]
     },
     "execution_count": 9,
     "metadata": {},
     "output_type": "execute_result"
    }
   ],
   "source": [
    "( 10 / (5-3) )**2"
   ]
  },
  {
   "cell_type": "code",
   "execution_count": 30,
   "metadata": {},
   "outputs": [
    {
     "data": {
      "text/plain": [
       "2.5"
      ]
     },
     "execution_count": 30,
     "metadata": {},
     "output_type": "execute_result"
    }
   ],
   "source": [
    "5/2"
   ]
  },
  {
   "cell_type": "markdown",
   "metadata": {},
   "source": [
    "## Bruk av variabler i utregninger\n",
    "Når du bruker flere variabler i ett uttrykk, vil:\n",
    "- Variabelen på venstre side av ”er-lik” være navnet på referansen til resultatet av utrekningen\n",
    "- Alle variablene på høyreside av ”er-lik” representerer kun verdier som brukes i utrekning.\n",
    "- Eks:"
   ]
  },
  {
   "cell_type": "markdown",
   "metadata": {},
   "source": [
    "<img src='utregning.png' width='300px'>"
   ]
  },
  {
   "cell_type": "code",
   "execution_count": 13,
   "metadata": {},
   "outputs": [
    {
     "name": "stdout",
     "output_type": "stream",
     "text": [
      "5 + 8 + 9 = 22\n"
     ]
    }
   ],
   "source": [
    "a = 5\n",
    "b = 8\n",
    "c = a + b + 9\n",
    "print(f'{a} + {b} + 9 = {c}')"
   ]
  },
  {
   "cell_type": "code",
   "execution_count": null,
   "metadata": {},
   "outputs": [],
   "source": []
  },
  {
   "cell_type": "markdown",
   "metadata": {},
   "source": [
    "### Underveisoppgaver\n",
    "- Hent inn første måling\n",
    "- Hent inn andre måling\n",
    "- Hent inn tredje måling\n",
    "- Kalkuler gjennomsnitt ved å legge samme tre målinger og dele på 3 \n",
    "- Vis gjennomsnittet på skjerm"
   ]
  },
  {
   "cell_type": "markdown",
   "metadata": {},
   "source": [
    "## Formatering"
   ]
  },
  {
   "cell_type": "code",
   "execution_count": 24,
   "metadata": {},
   "outputs": [
    {
     "name": "stdout",
     "output_type": "stream",
     "text": [
      "a = 0.3333333333333333\n",
      "a = 0.33\n",
      "a =        0.3\n",
      "a =    0.3    \n",
      "a = 3.333333e-01\n",
      "a = 33%\n",
      "a =        500\n"
     ]
    }
   ],
   "source": [
    "a = 1 / 3\n",
    "b = 500\n",
    "\n",
    "print(f'a = {a}')        # uformatert\n",
    "print(f'a = {a:.2f}')    # 2 desimaler, f står for float\n",
    "print(f'a = {a:10.1f}')  # 1 desimal og setter av ti tegn\n",
    "print(f'a = {a:^10.1f}') # 1 desimal og setter av ti tegn og sentrerer \n",
    "print(f'a = {a:e}')      # vitenskapelig notasjon på tallet\n",
    "print(f'a = {a:.0%}')    # tallet i prosent med 0 desimaler\n",
    "print(f'a = {b:10d}')    # heltall der det settes av ti tegn\n"
   ]
  },
  {
   "cell_type": "code",
   "execution_count": null,
   "metadata": {},
   "outputs": [],
   "source": []
  }
 ],
 "metadata": {
  "kernelspec": {
   "display_name": "Python 3",
   "language": "python",
   "name": "python3"
  },
  "language_info": {
   "codemirror_mode": {
    "name": "ipython",
    "version": 3
   },
   "file_extension": ".py",
   "mimetype": "text/x-python",
   "name": "python",
   "nbconvert_exporter": "python",
   "pygments_lexer": "ipython3",
   "version": "3.6.6"
  }
 },
 "nbformat": 4,
 "nbformat_minor": 2
}
