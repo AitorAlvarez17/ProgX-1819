{
 "cells": [
  {
   "cell_type": "markdown",
   "metadata": {},
   "source": [
    "# 6. Tilfeldige tall og spill - Løsningsforslag"
   ]
  },
  {
   "cell_type": "markdown",
   "metadata": {},
   "source": [
    "#### Importerer de nødvendige bibliotekene"
   ]
  },
  {
   "cell_type": "code",
   "execution_count": 100,
   "metadata": {},
   "outputs": [],
   "source": [
    "import numpy as np\n",
    "import matplotlib.pyplot as plt\n",
    "import seaborn as sb\n",
    "import random as rd\n",
    "import scipy as sp"
   ]
  },
  {
   "cell_type": "markdown",
   "metadata": {},
   "source": [
    "## 6.1.1 Lister\n",
    "### Oppgave 6.1\n",
    "Lag et program som lager:\n",
    "1. Tilfeldige heltall fra og med −5 til og med 5.\n",
    "2. Tilfeldige flyttall fra og med 0 til 10.\n",
    "3. Ei liste med fem tilfeldige tall mellom 100 og 200.\n",
    "4. Ei liste med fem tilfeldige partall mellom 100 og 200.\n",
    "\n",
    "#### Løsning:"
   ]
  },
  {
   "cell_type": "code",
   "execution_count": 3,
   "metadata": {},
   "outputs": [
    {
     "name": "stdout",
     "output_type": "stream",
     "text": [
      "(1)  5\n",
      "(2)  7.423972\n",
      "(3)  103  164  129  170  134 \n",
      "(4)  152  132  176  122  128 \n"
     ]
    }
   ],
   "source": [
    "#1\n",
    "print(f'(1)  {rd.randrange(-5, 6, 1)}') #(fra, til -1, steg)\n",
    "\n",
    "#2\n",
    "print(f'(2)  {rd.uniform(0, 10.0):f}')\n",
    "\n",
    "#3\n",
    "femTall = '(3) '\n",
    "for x in range(5):\n",
    "    femTall += f'{rd.randrange(100, 201, 1):^5}'\n",
    "print(femTall)\n",
    "\n",
    "#4\n",
    "femPartall = '(4) '\n",
    "for x in range(5):\n",
    "    femPartall += f'{rd.randrange(100, 201, 2):^5}'\n",
    "print(femPartall)"
   ]
  },
  {
   "cell_type": "markdown",
   "metadata": {},
   "source": [
    "### Oppgave 6.2\n",
    "Hva er forskjellen mellom liste1 og liste2, bortsett fra at de kaller på funksjoner med forskjellig navn?"
   ]
  },
  {
   "cell_type": "code",
   "execution_count": null,
   "metadata": {},
   "outputs": [],
   "source": [
    "liste1 = [rd.uniform(1,100) for x in range(5)]\n",
    "liste2 = [rd.randint(1,100) for x in range(5)]\n",
    "print(liste1)\n",
    "print(liste2)"
   ]
  },
  {
   "cell_type": "markdown",
   "metadata": {},
   "source": [
    "#### Løsning:"
   ]
  },
  {
   "cell_type": "markdown",
   "metadata": {},
   "source": [
    "-- svar her ---"
   ]
  },
  {
   "cell_type": "markdown",
   "metadata": {},
   "source": [
    "### Oppgave 6.3\n",
    "Lag et program som kaster en terning for deg.\n",
    "#### Løsning:"
   ]
  },
  {
   "cell_type": "code",
   "execution_count": 25,
   "metadata": {},
   "outputs": [
    {
     "name": "stdout",
     "output_type": "stream",
     "text": [
      "Terningen viser 5.\n"
     ]
    }
   ],
   "source": [
    "verdi_terning = rd.randint(1,7)\n",
    "print(f'Terningen viser {verdi_terning}.')"
   ]
  },
  {
   "cell_type": "markdown",
   "metadata": {},
   "source": [
    "### Oppgave 6.4\n",
    "Lag et program som simulerer N myntkast. Programmet skal finne ut hvor mange ganger hver side (kron eller mynt) forekommer etter N kast og deretter skrive ut antall ganger de forekommer delt på N.\n",
    "Kjør programmet for N = 10, 100, 1000, 10 000.\n",
    "\n",
    "#### Løsning:"
   ]
  },
  {
   "cell_type": "code",
   "execution_count": 46,
   "metadata": {},
   "outputs": [
    {
     "name": "stdout",
     "output_type": "stream",
     "text": [
      "Kron forekommer 0.503 av 10000 kast\n",
      "Mynt forekommer 0.496 av 10000 kast\n"
     ]
    }
   ],
   "source": [
    "n = 10000\n",
    "myntverdier = [rd.randint(0,1) for x in range(n)]\n",
    "#print(myntverdier)\n",
    "antall_kron = 0\n",
    "antall_mynt = 0\n",
    "for myntverdi in myntverdier:\n",
    "    if myntverdi == 0:\n",
    "        antall_kron += 1\n",
    "    else:\n",
    "        antall_mynt += 1\n",
    "\n",
    "print(f'Kron forekommer {antall_kron/n:.3f} av {n} kast')\n",
    "print(f'Mynt forekommer {antall_mynt/n:.3f} av {n} kast')"
   ]
  },
  {
   "cell_type": "markdown",
   "metadata": {},
   "source": [
    "### Oppgave 6.5\n",
    "Lag et program som stokker en kortstokk. Det trenger ikke være 52\n",
    "kort i kortstokken, men i hvert fall et lite utvalg.\n",
    "\n",
    "#### Løsning:"
   ]
  },
  {
   "cell_type": "code",
   "execution_count": null,
   "metadata": {},
   "outputs": [],
   "source": []
  },
  {
   "cell_type": "markdown",
   "metadata": {},
   "source": [
    "### Oppgave 6.6\n",
    "Lag et lite kortspill. Du kan lage regler selv eller bruke eksisterende regler. Du trenger ikke bruke grafikk.\n",
    "\n",
    "#### Løsning:"
   ]
  },
  {
   "cell_type": "code",
   "execution_count": null,
   "metadata": {},
   "outputs": [],
   "source": []
  },
  {
   "cell_type": "markdown",
   "metadata": {},
   "source": [
    "### Oppgave 6.7\n",
    "Lag et program som genererer fem tilfeldige tall som er delelig med 7, men ikke med 5, fra og med 1 til og med 1000.\n",
    "#### Løsning:"
   ]
  },
  {
   "cell_type": "code",
   "execution_count": 55,
   "metadata": {},
   "outputs": [
    {
     "name": "stdout",
     "output_type": "stream",
     "text": [
      "[7, 238, 77, 252, 182]\n"
     ]
    }
   ],
   "source": [
    "tilfeldige_tall = []\n",
    "n = 1\n",
    "while n <= 5:\n",
    "    x = rd.randint(1, 1001)\n",
    "    if x%7 == 0 and x%5 != 0:\n",
    "        tilfeldige_tall.append(x)\n",
    "        n+=1\n",
    "\n",
    "print(tilfeldige_tall)"
   ]
  },
  {
   "cell_type": "markdown",
   "metadata": {},
   "source": [
    "### Oppgave 6.8\n",
    "Skriv om kodesnutten slik at den består av kun ei linje:\n",
    "```python\n",
    "liste = zeros(100)\n",
    "for i in range(100):\n",
    "   liste[i] = rd.randint(0,2)\n",
    "```\n",
    "#### Løsning:"
   ]
  },
  {
   "cell_type": "code",
   "execution_count": 76,
   "metadata": {},
   "outputs": [],
   "source": [
    "liste = [rd.randint(0,2) for i in range(100)]"
   ]
  },
  {
   "cell_type": "markdown",
   "metadata": {},
   "source": [
    "### Oppgave 6.9 (Fysikk) \n",
    "\n",
    "Per har lagd en kanon til en konkurranse som kan styres av et program. Ifølge konkurransereglene må verdiene til skytevinkelen $θ$ være tilfeldig generert.\n",
    "Kanonen skal treffe en blink som er plassert slik at den begynner 5 meter over bakken og slutter 5.25 meter over bakken. Kanonen skal med andre ord treffe et sted mellom 5 og 5.25 meter. Blinken er plassert 10 meter unna kanonen. Når kula er 10 meter unna kanonen, vil den ha en høyde på\n",
    "\n",
    "$$-50 \\cdot \\frac{g}{v^2 \\cos^2\\theta} + 10 \\tan \\theta$$\n",
    "\n",
    "meter over bakkern. Her lar vi $g=9.81$m/s og $v=20$m/s.\n",
    "\n",
    "**a)** Lag et program som generer $N = 1000$ tilfeldige verdier ved bruk av uniform.\n",
    "Verdiene for $θ$ skal være slik at $θ ∈ [30^◦,60^◦]$.\n",
    "#### Løsning:"
   ]
  },
  {
   "cell_type": "code",
   "execution_count": 128,
   "metadata": {},
   "outputs": [],
   "source": [
    "n = 1000\n",
    "g = 9.81 #Tyngdeakselerasjonen\n",
    "v = 20   #Hastigheten til kula"
   ]
  },
  {
   "cell_type": "markdown",
   "metadata": {},
   "source": [
    "**b)** \n",
    "Utvid programmet ditt fra deloppgave a) slik at det legger hver $θ$ som gir et\n",
    "treff i en liste. Programmet skal så skrive ut hvor mange ganger kula traff blinken (programmet kan f.eks finne lengden av lista) og regne ut\n",
    "\n",
    "$$m = \\frac{\\text{sum over alle } θ\\text{-verdier som gjorde at kanonen traff blinken}} {\\text{antall } θ\\text{-verdier som gjorde at kanonen traff blinken}}$$"
   ]
  },
  {
   "cell_type": "code",
   "execution_count": 142,
   "metadata": {},
   "outputs": [
    {
     "name": "stdout",
     "output_type": "stream",
     "text": [
      "m = 33.28\n"
     ]
    },
    {
     "data": {
      "text/plain": [
       "37"
      ]
     },
     "execution_count": 142,
     "metadata": {},
     "output_type": "execute_result"
    }
   ],
   "source": [
    "liste_treff_uniform = []\n",
    "\n",
    "def hoyde_kanonkule(g, v, theta):\n",
    "    theta = np.radians(theta)\n",
    "    return -50 * g/(v**2*np.cos(theta)) + 10 * np.tan(theta)\n",
    "\n",
    "for x in range(1, n+1):\n",
    "    theta = rd.uniform(30, 61)\n",
    "    h = hoyde_kanonkule(g, v, theta);\n",
    "    if h >= 5 and h <= 5.25:\n",
    "        liste_treff_uniform.append(theta)\n",
    "        \n",
    "m = sum(liste_treff_uniform) / len(liste_treff_uniform)\n",
    "print(f'm = {m:.2f}')\n",
    "len(liste_treff_uniform)"
   ]
  },
  {
   "cell_type": "markdown",
   "metadata": {},
   "source": [
    "**c)** Nå skal programmet ditt bruke $m$ fra b) for å genere bedre verdier for $θ$ . Utvid programmet ditt slik at den generer N tilfeldige verdier for $θ$ ved å bruke normal(m,0.005).\n"
   ]
  },
  {
   "cell_type": "code",
   "execution_count": 150,
   "metadata": {},
   "outputs": [],
   "source": [
    "liste_treff_normal = []\n",
    "\n",
    "for x in range(1, n+1):\n",
    "    theta = normal(m, 0.005)\n",
    "    h = hoyde_kanonkule(g, v, theta);\n",
    "    if h >= 5 and h <= 5.25:\n",
    "        liste_treff_normal.append(theta)"
   ]
  },
  {
   "cell_type": "markdown",
   "metadata": {},
   "source": [
    "**d)** Programmet skal telle hvor mange ganger kula traff blinken og skrive ut resultatet. Hva er antall treff nå, sammenlikna med det du fikk i b)"
   ]
  },
  {
   "cell_type": "code",
   "execution_count": 151,
   "metadata": {},
   "outputs": [
    {
     "name": "stdout",
     "output_type": "stream",
     "text": [
      "Antall treff første gang: 37\n",
      "Antall treff første gang: 1000\n"
     ]
    }
   ],
   "source": [
    "print(f'Antall treff første gang: {len(liste_treff_uniform)}')\n",
    "print(f'Antall treff første gang: {len(liste_treff_normal)}')"
   ]
  },
  {
   "cell_type": "code",
   "execution_count": null,
   "metadata": {},
   "outputs": [],
   "source": []
  },
  {
   "cell_type": "code",
   "execution_count": null,
   "metadata": {},
   "outputs": [],
   "source": []
  }
 ],
 "metadata": {
  "kernelspec": {
   "display_name": "Python 3",
   "language": "python",
   "name": "python3"
  },
  "language_info": {
   "codemirror_mode": {
    "name": "ipython",
    "version": 3
   },
   "file_extension": ".py",
   "mimetype": "text/x-python",
   "name": "python",
   "nbconvert_exporter": "python",
   "pygments_lexer": "ipython3",
   "version": "3.6.6"
  }
 },
 "nbformat": 4,
 "nbformat_minor": 2
}
