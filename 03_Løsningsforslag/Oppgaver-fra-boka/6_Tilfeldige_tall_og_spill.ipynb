{
 "cells": [
  {
   "cell_type": "markdown",
   "metadata": {},
   "source": [
    "# 6. Tilfeldige tall og spill - Løsningsforslag"
   ]
  },
  {
   "cell_type": "markdown",
   "metadata": {},
   "source": [
    "#### Importerer de nødvendige bibliotekene"
   ]
  },
  {
   "cell_type": "code",
   "execution_count": 6,
   "metadata": {},
   "outputs": [],
   "source": [
    "import numpy as np\n",
    "import matplotlib.pyplot as plt\n",
    "import seaborn as sb\n",
    "import random as rd"
   ]
  },
  {
   "cell_type": "markdown",
   "metadata": {},
   "source": [
    "## 6.1.1 Lister\n",
    "### Oppgave 5.1\n",
    "Lag et program som lager:\n",
    "1. Tilfeldige heltall fra og med −5 til og med 5.\n",
    "2. Tilfeldige flyttall fra og med 0 til 10.\n",
    "3. Ei liste med fem tilfeldige tall mellom 100 og 200.\n",
    "4. Ei liste med fem tilfeldige partall mellom 100 og 200.\n",
    "\n",
    "#### Løsning:"
   ]
  },
  {
   "cell_type": "code",
   "execution_count": 51,
   "metadata": {},
   "outputs": [
    {
     "name": "stdout",
     "output_type": "stream",
     "text": [
      "(1)  0\n",
      "(2)  2.984175\n",
      "(3)  158  169  194  134  175 \n",
      "(4)  110  178  130  168  146 \n"
     ]
    }
   ],
   "source": [
    "#1\n",
    "print(f'(1)  {rd.randrange(-5, 6, 1)}') #(fra, til -1, steg)\n",
    "\n",
    "#2\n",
    "print(f'(2)  {rd.uniform(0, 10.0):f}')\n",
    "\n",
    "#3\n",
    "femTall = '(3) '\n",
    "for x in range(5):\n",
    "    femTall += f'{rd.randrange(100, 201, 1):^5}'\n",
    "print(femTall)\n",
    "\n",
    "#4\n",
    "femPartall = '(4) '\n",
    "for x in range(5):\n",
    "    femPartall += f'{rd.randrange(100, 201, 2):^5}'\n",
    "print(femPartall)"
   ]
  },
  {
   "cell_type": "markdown",
   "metadata": {},
   "source": [
    "### Oppgave 5.2"
   ]
  },
  {
   "cell_type": "code",
   "execution_count": 62,
   "metadata": {},
   "outputs": [
    {
     "data": {
      "text/plain": [
       "2"
      ]
     },
     "execution_count": 62,
     "metadata": {},
     "output_type": "execute_result"
    }
   ],
   "source": [
    "rd.randint(0,10)"
   ]
  },
  {
   "cell_type": "markdown",
   "metadata": {},
   "source": [
    "#### Løsning:"
   ]
  },
  {
   "cell_type": "code",
   "execution_count": 64,
   "metadata": {},
   "outputs": [
    {
     "name": "stdout",
     "output_type": "stream",
     "text": [
      "[20.22691694 24.18758018 23.42111074 39.13369398 79.58108497]\n",
      "[53 30 63 16 69]\n"
     ]
    }
   ],
   "source": [
    "from pylab import *\n",
    "liste1 = uniform(1,100,5)\n",
    "liste2 = randint(1,100,5)\n",
    "print(liste1)\n",
    "print(liste2)"
   ]
  },
  {
   "cell_type": "code",
   "execution_count": 71,
   "metadata": {},
   "outputs": [
    {
     "data": {
      "text/plain": [
       "array([ 0,  1,  2,  3,  4,  5,  6,  7,  8,  9, 10, 11, 12, 13, 14, 15, 16,\n",
       "       17, 18, 19, 20, 21, 22, 23, 24, 25, 26, 27, 28, 29, 30, 31, 32, 33,\n",
       "       34, 35, 36, 37, 38, 39, 40, 41, 42, 43, 44, 45, 46, 47, 48, 49, 50,\n",
       "       51, 52, 53, 54, 55, 56, 57, 58, 59, 60, 61, 62, 63, 64, 65, 66, 67,\n",
       "       68, 69, 70, 71, 72, 73, 74, 75, 76, 77, 78, 79, 80, 81, 82, 83, 84,\n",
       "       85, 86, 87, 88, 89, 90, 91, 92, 93, 94, 95, 96, 97, 98, 99])"
      ]
     },
     "execution_count": 71,
     "metadata": {},
     "output_type": "execute_result"
    }
   ],
   "source": [
    "np.arange(100)"
   ]
  },
  {
   "cell_type": "code",
   "execution_count": null,
   "metadata": {},
   "outputs": [],
   "source": []
  },
  {
   "cell_type": "code",
   "execution_count": null,
   "metadata": {},
   "outputs": [],
   "source": []
  }
 ],
 "metadata": {
  "kernelspec": {
   "display_name": "Python 3",
   "language": "python",
   "name": "python3"
  },
  "language_info": {
   "codemirror_mode": {
    "name": "ipython",
    "version": 3
   },
   "file_extension": ".py",
   "mimetype": "text/x-python",
   "name": "python",
   "nbconvert_exporter": "python",
   "pygments_lexer": "ipython3",
   "version": "3.6.6"
  }
 },
 "nbformat": 4,
 "nbformat_minor": 2
}
