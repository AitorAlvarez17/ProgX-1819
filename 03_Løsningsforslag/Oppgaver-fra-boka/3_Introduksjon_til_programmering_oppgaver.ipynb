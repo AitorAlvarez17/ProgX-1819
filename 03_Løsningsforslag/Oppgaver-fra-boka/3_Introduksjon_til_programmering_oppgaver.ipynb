{
 "cells": [
  {
   "cell_type": "markdown",
   "metadata": {},
   "source": [
    "# 3. Introduksjon til programmering - Løsningsforslag"
   ]
  },
  {
   "cell_type": "markdown",
   "metadata": {},
   "source": [
    "### Biblioteker til oppgavene"
   ]
  },
  {
   "cell_type": "code",
   "execution_count": 2,
   "metadata": {},
   "outputs": [],
   "source": [
    "import numpy as np"
   ]
  },
  {
   "cell_type": "markdown",
   "metadata": {},
   "source": [
    "## 3.1.1 Input og output\n",
    "### Oppgave 3.1\n",
    "Lag et program som skriver ut “Hei, navnet ditt”. Modifiser så programmet slik at navnet ditt lagres i en variabel, og benytt så denne variabelen i utskriftskommandoen.\n",
    "\n",
    "#### Løsning:"
   ]
  },
  {
   "cell_type": "code",
   "execution_count": null,
   "metadata": {},
   "outputs": [],
   "source": []
  },
  {
   "cell_type": "markdown",
   "metadata": {},
   "source": [
    "### Oppgave 3.2\n",
    "Lag tre variabler av ulik type og gi dem en verdi. Skriv ut de tre verdiene.\n",
    "\n",
    "#### Løsning:"
   ]
  },
  {
   "cell_type": "code",
   "execution_count": null,
   "metadata": {},
   "outputs": [],
   "source": []
  },
  {
   "cell_type": "markdown",
   "metadata": {},
   "source": [
    "### Oppgave 3.3\n",
    "Lag et program som skriver ut tre variabler av ulik type etter hver- andre.\n",
    "\n",
    "#### Løsning:"
   ]
  },
  {
   "cell_type": "code",
   "execution_count": null,
   "metadata": {},
   "outputs": [],
   "source": []
  },
  {
   "cell_type": "markdown",
   "metadata": {},
   "source": [
    "### Oppgave 3.4\n",
    "Lag et program som skriver “Hei,navn!” til skjermen. Brukeren skal bes om å taste inn navnet sitt. Dette navnet skal lagres i en variabel, og så skrives ut som i setningen ovenfor. Husk også utropstegnet til slutt.\n",
    "\n",
    "#### Løsning:"
   ]
  },
  {
   "cell_type": "code",
   "execution_count": null,
   "metadata": {},
   "outputs": [],
   "source": []
  },
  {
   "cell_type": "markdown",
   "metadata": {},
   "source": [
    "<b>Utvid</b> programmet til å spørre om alderen din. La programmet skrive ut en kommentar til alderen din til slutt, for eksempel “din alder er jammen gammelt!”\n",
    "\n",
    "#### Løsning:"
   ]
  },
  {
   "cell_type": "code",
   "execution_count": null,
   "metadata": {},
   "outputs": [],
   "source": []
  },
  {
   "cell_type": "markdown",
   "metadata": {},
   "source": [
    "### Oppgave 3.5\n",
    "Lag et program som spør etter to tall fra brukeren. Programmet skal så skrive ut disse to tallene. Lag en passende utskriftssetning.\n",
    "\n",
    "#### Løsning:"
   ]
  },
  {
   "cell_type": "code",
   "execution_count": null,
   "metadata": {},
   "outputs": [],
   "source": []
  },
  {
   "cell_type": "markdown",
   "metadata": {},
   "source": [
    "## 3.1.2 Matematiske operasjoner\n",
    "### Oppgave 3.6\n",
    "Lag to variabler med hver sin tallverdi. Lag en tredje variabel med summen av disse. Skriv ut summen slik: “Summen av tall 1 og tall 2 er sum”. \n",
    "\n",
    "#### Løsning:"
   ]
  },
  {
   "cell_type": "code",
   "execution_count": null,
   "metadata": {},
   "outputs": [],
   "source": []
  },
  {
   "cell_type": "markdown",
   "metadata": {},
   "source": [
    "<b>Modifiser</b> programmet slik at det tar tallene fra brukeren.\n",
    "\n",
    "#### Løsning:"
   ]
  },
  {
   "cell_type": "code",
   "execution_count": null,
   "metadata": {},
   "outputs": [],
   "source": []
  },
  {
   "cell_type": "markdown",
   "metadata": {},
   "source": [
    "### Oppgave 3.7\n",
    "Forklar hva som er forskjellen mellom kodene"
   ]
  },
  {
   "cell_type": "code",
   "execution_count": null,
   "metadata": {},
   "outputs": [],
   "source": [
    "print(a/(b*c)) og print(a/b*c)"
   ]
  },
  {
   "cell_type": "markdown",
   "metadata": {},
   "source": [
    "#### Løsning:"
   ]
  },
  {
   "cell_type": "markdown",
   "metadata": {},
   "source": []
  },
  {
   "cell_type": "markdown",
   "metadata": {},
   "source": [
    "### Oppgave 3.8\n",
    "Lag et program som regner ut forholdet mellom massen til protonet, mp, og massen til elektronet me. Programmet ditt skal gi at forholdet blir omtrentlig lik $1836$. Du kan bruke at $mp = 1.672621898 · 10^{−27}$ og $me = 9.10938356 · 10^{−31}$.\n",
    "#### Løsning:"
   ]
  },
  {
   "cell_type": "code",
   "execution_count": null,
   "metadata": {},
   "outputs": [],
   "source": []
  },
  {
   "cell_type": "markdown",
   "metadata": {},
   "source": [
    "### Oppgave 3.9\n",
    "Lag et program som regner ut gjennomsnittet av et visst antall tall.\n",
    "#### Løsning:"
   ]
  },
  {
   "cell_type": "code",
   "execution_count": null,
   "metadata": {},
   "outputs": [],
   "source": []
  },
  {
   "cell_type": "markdown",
   "metadata": {},
   "source": [
    "### Oppgave 3.10\n",
    "Hvert program i denne oppgava inneholder noen feil. Finn feilene\n",
    "og rett på dem slik at programmene kan kjøres korrekt. \n",
    "\n",
    "<b>1.</b> Programmet skal regne ut sinus av $30º$:"
   ]
  },
  {
   "cell_type": "code",
   "execution_count": null,
   "metadata": {},
   "outputs": [],
   "source": [
    "a = sin(30)\n",
    "print(f'Sinus av 30 grader er = {a}')"
   ]
  },
  {
   "cell_type": "markdown",
   "metadata": {},
   "source": [
    "#### Løsning:"
   ]
  },
  {
   "cell_type": "code",
   "execution_count": null,
   "metadata": {},
   "outputs": [],
   "source": []
  },
  {
   "cell_type": "markdown",
   "metadata": {},
   "source": [
    "<b>2.</b> Programmet skal regne ut prisen på 3 kaffe- og 4 tepakker:"
   ]
  },
  {
   "cell_type": "code",
   "execution_count": null,
   "metadata": {},
   "outputs": [],
   "source": [
    "pris_kaffe = 45 kr\n",
    "pris_te = 40 kr\n",
    "totalpris = 3*pris_kaffe + 4*pris_te\n",
    "print(f'Total pris: {totalpris}')"
   ]
  },
  {
   "cell_type": "markdown",
   "metadata": {},
   "source": [
    "#### Løsning:"
   ]
  },
  {
   "cell_type": "code",
   "execution_count": 32,
   "metadata": {},
   "outputs": [
    {
     "name": "stdout",
     "output_type": "stream",
     "text": [
      "Total pris: 295 kr\n"
     ]
    }
   ],
   "source": []
  },
  {
   "cell_type": "markdown",
   "metadata": {},
   "source": [
    "<b>3.</b> Programmet skal regne ut produktet av a og b, som begge er tall gitt fra brukeren:"
   ]
  },
  {
   "cell_type": "code",
   "execution_count": null,
   "metadata": {},
   "outputs": [],
   "source": [
    "c = a * b\n",
    "a = input('Skriv inn verdi for a: ')\n",
    "b = input('Skriv inn verdi for b: ')\n",
    "print(c)"
   ]
  },
  {
   "cell_type": "markdown",
   "metadata": {},
   "source": [
    "#### Løsning:"
   ]
  },
  {
   "cell_type": "code",
   "execution_count": null,
   "metadata": {},
   "outputs": [],
   "source": []
  },
  {
   "cell_type": "markdown",
   "metadata": {},
   "source": [
    "### Oppgave 3.11\n",
    "Lag et program som tar bensinforbruket per kilometer til en bil og hvor mange kilometer bilen skal kjøre som input fra brukeren. Programmet skal så beregne hvor mange liter bensin bilen kommer til  brukeetter å ha kjørt den gitte avstanden.\n",
    "#### Løsning:"
   ]
  },
  {
   "cell_type": "code",
   "execution_count": null,
   "metadata": {},
   "outputs": [],
   "source": []
  },
  {
   "cell_type": "markdown",
   "metadata": {},
   "source": [
    "### Oppgave 3.12\n",
    "(Biologi)\n",
    "Et menneske vil dø dersom han/hun mister så mye vann som $15$ % av sin kroppsvekt. Skriv et program som ber brukeren om å skrive inn hvor mye en person veier. Programmet skal deretter regne ut hvor mange liter vann som utgjør $15$ % av personens vekt. Resultatet skal så skrives ut.\n",
    "\n",
    "#### Løsning:"
   ]
  },
  {
   "cell_type": "code",
   "execution_count": null,
   "metadata": {},
   "outputs": [],
   "source": []
  },
  {
   "cell_type": "markdown",
   "metadata": {},
   "source": [
    "### Oppgave 3.13\n",
    "(Kjemi) Lag et program som regner ut hvor mye en trenger å veie ut av et bestemt stoff for å lage et visst volum (gitt av brukeren) av en løsning med en viss konsentrasjon (gitt av brukeren).\n",
    "\n",
    "For en kjemiker vil antall mol av et stoff være viktigere å kjenne til enn antall gram. Molariteten (M) til et stoff er antall mol av det løste stoffet per liter løsning. I SI-enheter vil konsentrasjon da være mol/dm³.\n",
    "\n",
    "$$M=\\frac {\\rm {mol~lost~stoff}}{\\rm {volum~av~hele~losningen}}$$\n",
    "\n",
    "#### Løsning:"
   ]
  },
  {
   "cell_type": "code",
   "execution_count": null,
   "metadata": {},
   "outputs": [],
   "source": []
  },
  {
   "cell_type": "markdown",
   "metadata": {},
   "source": [
    "### Oppgave 3.14\n",
    "Skriv et program som beregner hvor mange kroner, $p$ prosent av $k$ kroner utgjør. Programmet skal be brukeren om verdiene til $p$ og $k$.\n",
    "\n",
    "#### Løsning:"
   ]
  },
  {
   "cell_type": "code",
   "execution_count": null,
   "metadata": {},
   "outputs": [],
   "source": []
  },
  {
   "cell_type": "markdown",
   "metadata": {},
   "source": [
    "### Oppgave 3.15\n",
    "Lag et program der du kan velge mellom tre godterityper: Sur sild, melkesjokolade og potetgull (valgfri smak). La oss si at sur sild koster $16.00$ kr/hg, melkesjokolade koster $25.00$ kr/hg og potetgullet koster $20.50$ kr/hg. Spør brukeren om hvor mye penger han/hun har, og fortell brukeren hvor mye godteri han/hun får av den valgte typen.\n",
    "\n",
    "#### Løsning:\n",
    "Denne oppgave skal nok være under if-test-kapittelet "
   ]
  },
  {
   "cell_type": "code",
   "execution_count": null,
   "metadata": {},
   "outputs": [],
   "source": []
  },
  {
   "cell_type": "markdown",
   "metadata": {},
   "source": [
    "### Oppgave 3.16\n",
    "En iskrembod har nettopp begynt å selge kuleis. Boden har 3 liter is for hver smak. Hver kule som blir solgt, er en perfekt kule med radius på 2.5 cm. Lag et program som regner ut og skriver ut hvor mange kuler 3 liter is vil gi.\n",
    "\n",
    "#### Løsning:"
   ]
  },
  {
   "cell_type": "code",
   "execution_count": null,
   "metadata": {},
   "outputs": [],
   "source": []
  },
  {
   "cell_type": "markdown",
   "metadata": {},
   "source": [
    "### Oppgave 3.17\n",
    "Lag et program som regner ut den briggske logaritmen (tierlogarit- men) til et tall. Utvid programmet slik at brukeren gir tallet som input.\n",
    "\n",
    "#### Løsning:"
   ]
  },
  {
   "cell_type": "code",
   "execution_count": null,
   "metadata": {},
   "outputs": [],
   "source": []
  },
  {
   "cell_type": "markdown",
   "metadata": {},
   "source": [
    "### Oppgave 3.18\n",
    "Skriv et program som tar inn et antall år fra brukeren og konverterer det til sekunder. Du kan se bort fra skuddår.\n",
    "\n",
    "#### Løsning:"
   ]
  },
  {
   "cell_type": "code",
   "execution_count": null,
   "metadata": {},
   "outputs": [],
   "source": []
  },
  {
   "cell_type": "markdown",
   "metadata": {},
   "source": [
    "### Oppgave 3.19\n",
    "Skriv et program som ber brukeren om å skrive inn to tall $a$ og $b$. Tallet $a$ skal deles på $b$. Resultatet skal skrives ut på formen:\n",
    "$a$ delt på $b$ = antall ganger a går opp i $b + rest$\n",
    "\n",
    "#### Løsning:\n",
    "\n",
    "Dette er åpenbart feil. Rest må deles på b"
   ]
  },
  {
   "cell_type": "code",
   "execution_count": null,
   "metadata": {},
   "outputs": [],
   "source": []
  },
  {
   "cell_type": "markdown",
   "metadata": {},
   "source": [
    "## 3.1.3 Funskjoner\n",
    "### Oppgave 3.20\n",
    "Hvert program i denne oppgava inneholder noen feil. Finn feilene\n",
    "og rett på dem slik at programmene kan kjøres korrekt.\n",
    "\n",
    "#### 1. \n",
    "Funksjonen skal regne ut $f(x) = \\frac{1}{2x}+1$ og returnere svaret. I programmet skal funksjonen kalles på for $x = 4$:"
   ]
  },
  {
   "cell_type": "code",
   "execution_count": null,
   "metadata": {},
   "outputs": [],
   "source": [
    "def f(x):\n",
    "    1/2*x + 1\n",
    "\n",
    "print(f'f(x) = {f(x)}')"
   ]
  },
  {
   "cell_type": "markdown",
   "metadata": {},
   "source": [
    "#### 2. \n",
    "Programmet ber brukeren om å skrive en verdi for $x$ og regner ut $f(x) = 3x+cos(x)$ og returnere svaret."
   ]
  },
  {
   "cell_type": "code",
   "execution_count": null,
   "metadata": {},
   "outputs": [],
   "source": [
    "def f(x):\n",
    "    return 3x + cos(x)\n",
    "\n",
    "y = input(\"Skriv inn verdi for x: \")\n",
    "print(f'f(x) = {f(y)}')"
   ]
  },
  {
   "cell_type": "markdown",
   "metadata": {},
   "source": [
    "#### 3.\n",
    "Programmet skal skrive ut funksjonsverdien til G."
   ]
  },
  {
   "cell_type": "code",
   "execution_count": null,
   "metadata": {},
   "outputs": [],
   "source": [
    "def G(t):\n",
    "    a = t**2 - 2\n",
    "    return a\n",
    "\n",
    "t=1 \n",
    "print(a)"
   ]
  },
  {
   "cell_type": "markdown",
   "metadata": {},
   "source": [
    "### Oppgave 3.21\n",
    "Lag et program eller flere programmer som regner ut: 1. Arealet til en sirkel.\n",
    "2. Radius til en sirkel gitt diameteren.\n",
    "3. Omkretsen til en sirkel.\n",
    "4. Volumet til ei kule.\n",
    "5. Overflatearealet til ei kule.\n",
    "\n",
    "#### Løsning:"
   ]
  },
  {
   "cell_type": "code",
   "execution_count": null,
   "metadata": {},
   "outputs": [],
   "source": []
  },
  {
   "cell_type": "markdown",
   "metadata": {},
   "source": [
    "### Oppgave 3.22\n",
    "Forklar hvorfor programmet under gir None som output. Rett på programmet slik at x får en tallverdi fra $f$.\n"
   ]
  },
  {
   "cell_type": "code",
   "execution_count": null,
   "metadata": {},
   "outputs": [],
   "source": [
    "def f(x):\n",
    "    x = 2*x\n",
    "x = 12\n",
    "x = x + 12\n",
    "x = f(x)\n",
    "print(x)"
   ]
  },
  {
   "cell_type": "markdown",
   "metadata": {},
   "source": [
    "#### Løsning:\n"
   ]
  },
  {
   "cell_type": "markdown",
   "metadata": {},
   "source": [
    "### Oppgave 3.23\n",
    "Amerikanere er rare dyr. De har både Trump og Fahrenheit. Det er vanskelig å lage en funksjon som erstatter Trump med noen andre, men vi kan lage en funksjon som konverterer Fahrenheit til Celsius (ikke motsatt – det vil vi jo ikke!). Formelen er slik:\n",
    "\n",
    "$$T_C = (T_F-32)\\cdot \\frac{5}{9}$$\n",
    "\n",
    "der $T_C$ er temperaturen i Celsius og $T_F$ er temperaturen i Fahrenheit. Lag et program som konverterer Fahrenheit til Celsius gjennom en funksjon.\n",
    "\n",
    "#### Løsning:"
   ]
  },
  {
   "cell_type": "code",
   "execution_count": null,
   "metadata": {},
   "outputs": [],
   "source": []
  },
  {
   "cell_type": "markdown",
   "metadata": {},
   "source": [
    "### Oppgave 3.25\n",
    "Lag et program som konverterer et vinkelmål i grader til radianer ved hjelp av en egendefinert funksjon.\n",
    "\n",
    "#### Løsning:"
   ]
  },
  {
   "cell_type": "code",
   "execution_count": null,
   "metadata": {},
   "outputs": [],
   "source": []
  },
  {
   "cell_type": "markdown",
   "metadata": {},
   "source": [
    "### Oppgave 3.31 \n",
    "Lag en funksjon som tar tre variabler a, b og c, tilsvarende koeffisientene i andregradsfunksjoner av typen $f(x)=ax^2+bx+c$. La funksjonen løse andregradslikninger av typen $f(x)=0$ ved hjelp av andregradsformelen.\n",
    "\n",
    "#### Løsning:"
   ]
  },
  {
   "cell_type": "code",
   "execution_count": null,
   "metadata": {},
   "outputs": [],
   "source": []
  },
  {
   "cell_type": "markdown",
   "metadata": {},
   "source": [
    "### 3.33 a)\n",
    "$$\\log_2(x)=\\frac{\\log(x)}{\\log(2)}$$"
   ]
  },
  {
   "cell_type": "code",
   "execution_count": 65,
   "metadata": {},
   "outputs": [
    {
     "name": "stdout",
     "output_type": "stream",
     "text": [
      "log_2(64) = 6.0\n"
     ]
    }
   ],
   "source": [
    "x = int(input(\"Skriv inn x for å regne ut log_2(x): \"))\n",
    "\n",
    "print(f'log_2({x}) = {np.log(x)/np.log(2)}')"
   ]
  },
  {
   "cell_type": "markdown",
   "metadata": {},
   "source": [
    "### 3.33 b)\n",
    "$$\\log_a(x)=\\frac{\\log(x)}{\\log(a)}$$"
   ]
  },
  {
   "cell_type": "code",
   "execution_count": 66,
   "metadata": {},
   "outputs": [
    {
     "name": "stdout",
     "output_type": "stream",
     "text": [
      "log_10(10000) = 4.0\n"
     ]
    }
   ],
   "source": [
    "x = int(input(\"Skriv inn x for å regne ut log_a(x): \"))\n",
    "a = int(input(\"Skriv inn a for å regne ut log_a(x): \"))\n",
    "\n",
    "print(f'log_{a}({x}) = {np.log(x)/np.log(a)}')"
   ]
  }
 ],
 "metadata": {
  "kernelspec": {
   "display_name": "Python 3",
   "language": "python",
   "name": "python3"
  },
  "language_info": {
   "codemirror_mode": {
    "name": "ipython",
    "version": 3
   },
   "file_extension": ".py",
   "mimetype": "text/x-python",
   "name": "python",
   "nbconvert_exporter": "python",
   "pygments_lexer": "ipython3",
   "version": "3.6.6"
  }
 },
 "nbformat": 4,
 "nbformat_minor": 2
}
