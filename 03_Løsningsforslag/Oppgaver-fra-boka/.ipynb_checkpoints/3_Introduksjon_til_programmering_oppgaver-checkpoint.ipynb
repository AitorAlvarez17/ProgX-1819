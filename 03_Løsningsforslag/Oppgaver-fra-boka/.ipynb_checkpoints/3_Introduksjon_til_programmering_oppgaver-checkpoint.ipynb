{
 "cells": [
  {
   "cell_type": "markdown",
   "metadata": {},
   "source": [
    "# 3. Introduksjon til programmering - Løsningsforslag"
   ]
  },
  {
   "cell_type": "markdown",
   "metadata": {},
   "source": [
    "### Biblioteker til oppgavene"
   ]
  },
  {
   "cell_type": "code",
   "execution_count": 41,
   "metadata": {},
   "outputs": [],
   "source": [
    "import numpy as np"
   ]
  },
  {
   "cell_type": "markdown",
   "metadata": {},
   "source": [
    "## 3.1.1 Input og output\n",
    "### Oppgave 3.1\n",
    "Lag et program som skriver ut “Hei, navnet ditt”. Modifiser så programmet slik at navnet ditt lagres i en variabel, og benytt så denne variabelen i utskriftskommandoen.\n",
    "\n",
    "#### Løsning:"
   ]
  },
  {
   "cell_type": "code",
   "execution_count": 2,
   "metadata": {},
   "outputs": [
    {
     "name": "stdout",
     "output_type": "stream",
     "text": [
      "Hei, Steinar!\n"
     ]
    }
   ],
   "source": [
    "navn = 'Steinar'\n",
    "print(f'Hei, {navn}!')"
   ]
  },
  {
   "cell_type": "markdown",
   "metadata": {},
   "source": [
    "### Oppgave 3.2\n",
    "Lag tre variabler av ulik type og gi dem en verdi. Skriv ut de tre verdiene.\n",
    "\n",
    "#### Løsning:"
   ]
  },
  {
   "cell_type": "code",
   "execution_count": 13,
   "metadata": {},
   "outputs": [
    {
     "name": "stdout",
     "output_type": "stream",
     "text": [
      "Tall-variabel:   3\n",
      "Tekst-variabel:  tre\n",
      "Boolsk-variabel: True\n"
     ]
    }
   ],
   "source": [
    "tall = 3\n",
    "tekst = 'tre'\n",
    "boolian = True\n",
    "print(f'Tall-variabel:   {tall}')\n",
    "print(f'Tekst-variabel:  {tekst}')\n",
    "print(f'Boolsk-variabel: {boolian}')"
   ]
  },
  {
   "cell_type": "markdown",
   "metadata": {},
   "source": [
    "### Oppgave 3.3\n",
    "Lag et program som skriver ut tre variabler av ulik type etter hver- andre.\n",
    "\n",
    "#### Løsning:"
   ]
  },
  {
   "cell_type": "code",
   "execution_count": 12,
   "metadata": {},
   "outputs": [
    {
     "name": "stdout",
     "output_type": "stream",
     "text": [
      "Tall: 3 > tre, er False\n"
     ]
    }
   ],
   "source": [
    "tall = 3\n",
    "tekst = 'tre'\n",
    "boolian = False\n",
    "print(f'Tall: {tall} > {tekst}, er {boolian}')"
   ]
  },
  {
   "cell_type": "markdown",
   "metadata": {},
   "source": [
    "### Oppgave 3.4\n",
    "Lag et program som skriver “Hei,navn!” til skjermen. Brukeren skal bes om å taste inn navnet sitt. Dette navnet skal lagres i en variabel, og så skrives ut som i setningen ovenfor. Husk også utropstegnet til slutt.\n",
    "\n",
    "#### Løsning:"
   ]
  },
  {
   "cell_type": "code",
   "execution_count": 15,
   "metadata": {},
   "outputs": [
    {
     "name": "stdout",
     "output_type": "stream",
     "text": [
      "Hei Steinar!\n"
     ]
    }
   ],
   "source": [
    "navn = input('Tast inn navnet ditt: ')\n",
    "print(f'Hei {navn}!')"
   ]
  },
  {
   "cell_type": "markdown",
   "metadata": {},
   "source": [
    "<b>Utvid</b> programmet til å spørre om alderen din. La programmet skrive ut en kommentar til alderen din til slutt, for eksempel “din alder er jammen gammelt!”\n",
    "\n",
    "#### Løsning:"
   ]
  },
  {
   "cell_type": "code",
   "execution_count": 18,
   "metadata": {},
   "outputs": [
    {
     "name": "stdout",
     "output_type": "stream",
     "text": [
      "48 år er ingen alder, Steinar!\n"
     ]
    }
   ],
   "source": [
    "navn = input('Tast inn navnet ditt: ')\n",
    "alder = input(f'Hvor gammel er du, {navn}')\n",
    "print(f'{alder} år er ingen alder, {navn}!')"
   ]
  },
  {
   "cell_type": "markdown",
   "metadata": {},
   "source": [
    "### Oppgave 3.5\n",
    "Lag et program som spør etter to tall fra brukeren. Programmet skal så skrive ut disse to tallene. Lag en passende utskriftssetning.\n",
    "\n",
    "#### Løsning:"
   ]
  },
  {
   "cell_type": "code",
   "execution_count": 21,
   "metadata": {},
   "outputs": [
    {
     "name": "stdout",
     "output_type": "stream",
     "text": [
      "3 + 7 = 10\n"
     ]
    }
   ],
   "source": [
    "tall_1 = int(input('Skriv inn et tall: '))\n",
    "tall_2 = int(input('Skriv inn et tall til: '))\n",
    "print(f'{tall_1} + {tall_2} = {tall_1+tall_2}')"
   ]
  },
  {
   "cell_type": "markdown",
   "metadata": {},
   "source": [
    "## 3.1.2 Matematiske operasjoner\n",
    "### Oppgave 3.6\n",
    "Lag to variabler med hver sin tallverdi. Lag en tredje variabel med summen av disse. Skriv ut summen slik: “Summen av tall 1 og tall 2 er sum”. \n",
    "\n",
    "#### Løsning:"
   ]
  },
  {
   "cell_type": "code",
   "execution_count": 25,
   "metadata": {},
   "outputs": [
    {
     "name": "stdout",
     "output_type": "stream",
     "text": [
      "Saummen til 9 og 11 er 20.\n"
     ]
    }
   ],
   "source": [
    "tall_1 = 9\n",
    "tall_2 = 11\n",
    "sum = tall_1 + tall_2\n",
    "\n",
    "print(f'Saummen til {tall_1} og {tall_2} er {sum}.')"
   ]
  },
  {
   "cell_type": "markdown",
   "metadata": {},
   "source": [
    "<b>Modifiser</b> programmet slik at det tar tallene fra brukeren.\n",
    "\n",
    "#### Løsning:"
   ]
  },
  {
   "cell_type": "code",
   "execution_count": 26,
   "metadata": {},
   "outputs": [
    {
     "name": "stdout",
     "output_type": "stream",
     "text": [
      "Saummen til 18 og 12 er 30.\n"
     ]
    }
   ],
   "source": [
    "tall_1 = int(input('Skriv inn et tall: '))\n",
    "tall_2 = int(input('Skriv inn et tall til: '))\n",
    "sum = tall_1 + tall_2\n",
    "\n",
    "print(f'Saummen til {tall_1} og {tall_2} er {sum}.')"
   ]
  },
  {
   "cell_type": "markdown",
   "metadata": {},
   "source": [
    "### Oppgave 3.7\n",
    "Forklar hva som er forskjellen mellom kodene"
   ]
  },
  {
   "cell_type": "code",
   "execution_count": null,
   "metadata": {},
   "outputs": [],
   "source": [
    "print(a/(b*c)) og print(a/b*c)"
   ]
  },
  {
   "cell_type": "markdown",
   "metadata": {},
   "source": [
    "#### Løsning:"
   ]
  },
  {
   "cell_type": "markdown",
   "metadata": {},
   "source": [
    "Nevneren er $b\\cdot c$ i den første og bare $b$ i den andre."
   ]
  },
  {
   "cell_type": "markdown",
   "metadata": {},
   "source": [
    "### Oppgave 3.8\n",
    "Lag et program som regner ut forholdet mellom massen til protonet, mp, og massen til elektronet me. Programmet ditt skal gi at forholdet blir omtrentlig lik $1836$. Du kan bruke at $mp = 1.672621898 · 10^{−27}$ og $me = 9.10938356 · 10^{−31}$.\n",
    "#### Løsning:"
   ]
  },
  {
   "cell_type": "code",
   "execution_count": 34,
   "metadata": {},
   "outputs": [
    {
     "name": "stdout",
     "output_type": "stream",
     "text": [
      "Forholde mellom massen til proteinet og massen til elektronet: 1836\n"
     ]
    }
   ],
   "source": [
    "m_p = 1.672621898 * 10 ** (-27)\n",
    "m_e = 9.10938356 * 10 ** (-31)\n",
    "forhold = m_p/m_e\n",
    "print(f'Forholde mellom massen til proteinet og massen til elektronet: {forhold:4.0f}')"
   ]
  },
  {
   "cell_type": "markdown",
   "metadata": {},
   "source": [
    "### Oppgave 3.9\n",
    "Lag et program som regner ut gjennomsnittet av et visst antall tall.\n",
    "#### Løsning:"
   ]
  },
  {
   "cell_type": "code",
   "execution_count": 37,
   "metadata": {},
   "outputs": [
    {
     "name": "stdout",
     "output_type": "stream",
     "text": [
      "Gjennomsnittet til tallene: 3.0\n"
     ]
    }
   ],
   "source": [
    "a = int(input(\"Tall1: \"))\n",
    "b = int(input(\"Tall2: \"))\n",
    "c = int(input(\"Tall3: \"))\n",
    "d = int(input(\"Tall4: \"))\n",
    "e = int(input(\"Tall5: \"))\n",
    "\n",
    "print(f'Gjennomsnittet til tallene: {(a+b+c+d+e)/5}')"
   ]
  },
  {
   "cell_type": "markdown",
   "metadata": {},
   "source": [
    "### Oppgave 3.10\n",
    "Hvert program i denne oppgava inneholder noen feil. Finn feilene\n",
    "og rett på dem slik at programmene kan kjøres korrekt. \n",
    "\n",
    "<b>1.</b> Programmet skal regne ut sinus av $30º$:"
   ]
  },
  {
   "cell_type": "code",
   "execution_count": null,
   "metadata": {},
   "outputs": [],
   "source": [
    "a = sin(30)\n",
    "print(f'Sinus av 30 grader er = {a}')"
   ]
  },
  {
   "cell_type": "markdown",
   "metadata": {},
   "source": [
    "#### Løsning:"
   ]
  },
  {
   "cell_type": "code",
   "execution_count": 29,
   "metadata": {},
   "outputs": [
    {
     "name": "stdout",
     "output_type": "stream",
     "text": [
      "Sinus av 30 grader er = 0.5000\n"
     ]
    }
   ],
   "source": [
    "import numpy as np #Vi trenger numpy-biblioteket\n",
    "a = np.sin(np.deg2rad(30)) #Så må vi gjøre om fra grader til radianer\n",
    "print(f'Sinus av 30 grader er = {a:.4f}')"
   ]
  },
  {
   "cell_type": "markdown",
   "metadata": {},
   "source": [
    "<b>2.</b> Programmet skal regne ut prisen på 3 kaffe- og 4 tepakker:"
   ]
  },
  {
   "cell_type": "code",
   "execution_count": null,
   "metadata": {},
   "outputs": [],
   "source": [
    "pris_kaffe = 45 kr\n",
    "pris_te = 40 kr\n",
    "totalpris = 3*pris_kaffe + 4*pris_te\n",
    "print(f'Total pris: {totalpris}')"
   ]
  },
  {
   "cell_type": "markdown",
   "metadata": {},
   "source": [
    "#### Løsning:"
   ]
  },
  {
   "cell_type": "code",
   "execution_count": 32,
   "metadata": {},
   "outputs": [
    {
     "name": "stdout",
     "output_type": "stream",
     "text": [
      "Total pris: 295 kr\n"
     ]
    }
   ],
   "source": [
    "pris_kaffe = 45 #Vi kan ikke regne med enheter\n",
    "pris_te = 40 #Vi kan ikke regne med enheter\n",
    "total_pris = 3*pris_kaffe + 4*pris_te \n",
    "print(f'Total pris: {totalpris} kr')  #Legger til enheten i utskriften"
   ]
  },
  {
   "cell_type": "markdown",
   "metadata": {},
   "source": [
    "<b>3.</b> Programmet skal regne ut produktet av a og b, som begge er tall gitt fra brukeren:"
   ]
  },
  {
   "cell_type": "code",
   "execution_count": null,
   "metadata": {},
   "outputs": [],
   "source": [
    "c = a * b\n",
    "a = input('Skriv inn verdi for a: ')\n",
    "b = input('Skriv inn verdi for b: ')\n",
    "print(c)"
   ]
  },
  {
   "cell_type": "markdown",
   "metadata": {},
   "source": [
    "#### Løsning:"
   ]
  },
  {
   "cell_type": "code",
   "execution_count": 34,
   "metadata": {},
   "outputs": [
    {
     "name": "stdout",
     "output_type": "stream",
     "text": [
      "6 * 7 = 42\n"
     ]
    }
   ],
   "source": [
    "a = int(input('Skriv inn verdi for a: ')) #Vi må definere variabelene før vi referer til dem\n",
    "b = int(input('Skriv inn verdi for b: ')) #Og så må vi gjøre om tallene til float elelr int for å ta produktet av dem.\n",
    "c = a * b #Flyttet under a og b\n",
    "print(f'{a} * {b} = {c}') #Det er lurt med bedre utskrift"
   ]
  },
  {
   "cell_type": "markdown",
   "metadata": {},
   "source": [
    "### Oppgave 3.11\n",
    "Lag et program som tar bensinforbruket per kilometer til en bil og hvor mange kilometer bilen skal kjøre som input fra brukeren. Programmet skal så beregne hvor mange lite\n",
    "#### Oppgaver:"
   ]
  },
  {
   "cell_type": "code",
   "execution_count": 36,
   "metadata": {},
   "outputs": [
    {
     "name": "stdout",
     "output_type": "stream",
     "text": [
      "Bilen har brukt 29.4 l etter 42.0 km.\n"
     ]
    }
   ],
   "source": [
    "forbruk = float(input(\"Kilometerforbruk: \"))\n",
    "km = float(input(\"Ant. kilometer: \"))\n",
    "\n",
    "print(f'Bilen har brukt {forbruk * km} l etter {km} km.')"
   ]
  },
  {
   "cell_type": "markdown",
   "metadata": {},
   "source": [
    "### Oppgave 3.12\n",
    "(Biologi)\n",
    "Et menneske vil dø dersom han/hun mister så mye vann som $15$ % av sin kroppsvekt. Skriv et program som ber brukeren om å skrive inn hvor mye en person veier. Programmet skal deretter regne ut hvor mange liter vann som utgjør $15$ % av personens vekt. Resultatet skal så skrives ut.\n",
    "\n",
    "#### Løsning:"
   ]
  },
  {
   "cell_type": "code",
   "execution_count": 38,
   "metadata": {},
   "outputs": [
    {
     "name": "stdout",
     "output_type": "stream",
     "text": [
      "15 % utgjør 12.0 l av en persom på 80.0 kg.\n"
     ]
    }
   ],
   "source": [
    "vekt = float(input('Skriv inn vekten din: '))\n",
    "vann_15prosent = vekt * 0.15\n",
    "print(f'15 % utgjør {vann_15prosent:.1f} l av en persom på {vekt} kg.')"
   ]
  },
  {
   "cell_type": "markdown",
   "metadata": {},
   "source": [
    "### Oppgave 3.13\n",
    "(Kjemi) Lag et program som regner ut hvor mye en trenger å veie ut av et bestemt stoff for å lage et visst volum (gitt av brukeren) av en løsning med en viss konsentrasjon (gitt av brukeren).\n",
    "\n",
    "For en kjemiker vil antall mol av et stoff være viktigere å kjenne til enn antall gram. Molariteten (M) til et stoff er antall mol av det løste stoffet per liter løsning. I SI-enheter vil konsentrasjon da være mol/dm³.\n",
    "\n",
    "$$M=\\frac {\\rm {mol~lost~stoff}}{\\rm {volum~av~hele~losningen}}$$\n",
    "\n",
    "#### Løsning:\n",
    "\n",
    "Løser likningen for $\\rm {mol~lost~stoff}$:\n",
    "\n",
    "$${\\rm {mol~lost~stoff}} = {\\rm {volum~av~hele~losningen}} \\cdot M$$\n",
    "\n",
    "Dersom molariteten (konsentrajsonen) av et stoff løst i en halv liter væske er $\\rm {12~M}$:\n",
    "\n",
    "$${\\rm {0,5~l}} \\cdot 12~M = \\rm {6~mol}$$"
   ]
  },
  {
   "cell_type": "code",
   "execution_count": 40,
   "metadata": {},
   "outputs": [
    {
     "name": "stdout",
     "output_type": "stream",
     "text": [
      "0.5 l * 12.0 M = 6.0 mol\n"
     ]
    }
   ],
   "source": [
    "volum = float(input('Skriv in volumet til stoffet (liter): '))\n",
    "molaritet = float(input('Skriv in vekta til stoffet (mol): '))\n",
    "mol_lost_stoff = volum * molaritet\n",
    "print(f'{volum} l * {molaritet} M = {mol_lost_stoff} mol')"
   ]
  },
  {
   "cell_type": "markdown",
   "metadata": {},
   "source": [
    "### Oppgave 3.14\n",
    "Skriv et program som beregner hvor mange kroner, $p$ prosent av $k$ kroner utgjør. Programmet skal be brukeren om verdiene til $p$ og $k$.\n",
    "\n",
    "#### Løsning:"
   ]
  },
  {
   "cell_type": "code",
   "execution_count": 46,
   "metadata": {},
   "outputs": [
    {
     "name": "stdout",
     "output_type": "stream",
     "text": [
      "25.0 % utgjør 875.00 kr av 3500.00 kr.\n"
     ]
    }
   ],
   "source": [
    "p = float(input('Skriv inn prosent (%): '))\n",
    "k = float(input('Skriv inn antall kroner (kr): '))\n",
    "print(f'{p:.1f} % utgjør {p/100*k:.2f} kr av {k:.2f} kr.')"
   ]
  },
  {
   "cell_type": "markdown",
   "metadata": {},
   "source": [
    "### Oppgave 3.15\n",
    "Lag et program der du kan velge mellom tre godterityper: Sur sild, melkesjokolade og potetgull (valgfri smak). La oss si at sur sild koster $16.00$ kr/hg, melkesjokolade koster $25.00$ kr/hg og potetgullet koster $20.50$ kr/hg. Spør brukeren om hvor mye penger han/hun har, og fortell brukeren hvor mye godteri han/hun får av den valgte typen.\n",
    "\n",
    "#### Løsning:\n",
    "Denne oppgave skal nok være under if-test-kapittelet "
   ]
  },
  {
   "cell_type": "code",
   "execution_count": 48,
   "metadata": {},
   "outputs": [
    {
     "name": "stdout",
     "output_type": "stream",
     "text": [
      "Du får 4.0 hg melkesjokolade for 100.0 kr. \n"
     ]
    }
   ],
   "source": [
    "penger = float(input('Skriv inn hvor mye penger du vil bruke: '))\n",
    "godteritype = int(input('Skriv <1> for Sur sild, <2> for melkesjokolade og <3> for potetgull: '))\n",
    "\n",
    "if godteritype == 1:\n",
    "    print(f'Du får {penger/16} hg sur sild for {penger} kr. ')\n",
    "elif godteritype == 2:\n",
    "    print(f'Du får {penger/25} hg melkesjokolade for {penger} kr. ')\n",
    "elif godteritype == 3:\n",
    "    print(f'Du får {penger/20.5} hg potegull for {penger} kr. ')\n",
    "else:\n",
    "    print('Du har skrevet inn noe feil.')\n"
   ]
  },
  {
   "cell_type": "markdown",
   "metadata": {},
   "source": [
    "### Oppgave 3.16\n",
    "En iskrembod har nettopp begynt å selge kuleis. Boden har 3 liter is for hver smak. Hver kule som blir solgt, er en perfekt kule med radius på 2.5 cm. Lag et program som regner ut og skriver ut hvor mange kuler 3 liter is vil gi.\n",
    "\n",
    "#### Løsning:\n",
    "$$V = \\frac{4 \\pi \\cdot r^3}{3}$$"
   ]
  },
  {
   "cell_type": "code",
   "execution_count": 62,
   "metadata": {},
   "outputs": [
    {
     "name": "stdout",
     "output_type": "stream",
     "text": [
      "3 l is vil gi 45.84 kuler is. 45 hele kuer.\n"
     ]
    }
   ],
   "source": [
    "radius_kule = 2.5 / 10 #Gjør om fra cm til dm\n",
    "volum_kule = 4 * np.pi * radius_kule**3/3 #i liter\n",
    "liter_is = 3 \n",
    "antall_kuler = liter_is / volum_kule\n",
    "\n",
    "print(f'{liter_is} l is vil gi {antall_kuler:.2f} kuler is. {np.floor(antall_kuler):.0f} hele kuer.')"
   ]
  },
  {
   "cell_type": "markdown",
   "metadata": {},
   "source": [
    "### Oppgave 3.17\n",
    "Lag et program som regner ut den briggske logaritmen (tierlogarit- men) til et tall. Utvid programmet slik at brukeren gir tallet som input.\n",
    "\n",
    "#### Løsning:"
   ]
  },
  {
   "cell_type": "code",
   "execution_count": 63,
   "metadata": {},
   "outputs": [
    {
     "name": "stdout",
     "output_type": "stream",
     "text": [
      "Log10(10000000.0) = 7.0\n"
     ]
    }
   ],
   "source": [
    "tall = float(input('Skriv inn et tall: '))\n",
    "log10_tall = np.log10(tall)\n",
    "\n",
    "print(f'Log10({tall}) = {log10_tall}')"
   ]
  },
  {
   "cell_type": "markdown",
   "metadata": {},
   "source": [
    "### Oppgave 3.18\n",
    "Skriv et program som tar inn et antall år fra brukeren og konverterer det til sekunder. Du kan se bort fra skuddår.\n",
    "\n",
    "#### Løsning:"
   ]
  },
  {
   "cell_type": "code",
   "execution_count": 69,
   "metadata": {},
   "outputs": [
    {
     "name": "stdout",
     "output_type": "stream",
     "text": [
      "Det er 1103760000.0 sekunder i 35.0 år.\n"
     ]
    }
   ],
   "source": [
    "aar = float(input('Skriv inn antall år: '))\n",
    "aar_til_sekunder = aar * 365 * 24 * 60 * 60\n",
    "print(f'Det er {aar_til_sekunder:.1f} sekunder i {aar:.1f} år.')"
   ]
  },
  {
   "cell_type": "markdown",
   "metadata": {},
   "source": [
    "### Oppgave 3.19\n",
    "Skriv et program som ber brukeren om å skrive inn to tall $a$ og $b$. Tallet $a$ skal deles på $b$. Resultatet skal skrives ut på formen:\n",
    "$a$ delt på $b$ = antall ganger a går opp i $b + rest$\n",
    "\n",
    "#### Løsning:\n",
    "\n",
    "Detter er åpenbart feil. Rest må deles på b"
   ]
  },
  {
   "cell_type": "code",
   "execution_count": 75,
   "metadata": {},
   "outputs": [
    {
     "name": "stdout",
     "output_type": "stream",
     "text": [
      "17 delt på 3 = 5.0 ganger 17 går opp i 3 + 2 i rest\n"
     ]
    }
   ],
   "source": [
    "a = int(input('Skriv inn et tall: '))\n",
    "b = int(input('Skriv inn et tall til: '))\n",
    "print(f'{a} delt på {b} = {np.floor(a/b)} ganger {a} går opp i {b} + {a%b} i rest')"
   ]
  },
  {
   "cell_type": "markdown",
   "metadata": {},
   "source": [
    "## 3.1.3 Funskjoner\n",
    "### Oppgave 3.21\n",
    "Lag et program eller flere programmer som regner ut: 1. Arealet til en sirkel.\n",
    "2. Radius til en sirkel gitt diameteren.\n",
    "3. Omkretsen til en sirkel.\n",
    "4. Volumet til ei kule.\n",
    "5. Overflatearealet til ei kule.\n",
    "\n",
    "#### Løsning:"
   ]
  },
  {
   "cell_type": "code",
   "execution_count": 38,
   "metadata": {},
   "outputs": [],
   "source": [
    "def arealSirkel(r):\n",
    "    return np.pi * r**2\n",
    "\n",
    "def radiusFraDiameter(d):\n",
    "    return d/2\n",
    "\n",
    "def omkretsSirkel(r):\n",
    "    return 2 * np.pi * r\n",
    "\n",
    "def volumKule(r):\n",
    "    return 4/3 * np.pi * r**3\n",
    "\n",
    "def overflateKule(r):\n",
    "    4 * np.pi * r**2"
   ]
  },
  {
   "cell_type": "markdown",
   "metadata": {},
   "source": [
    "### Oppgave 3.23\n",
    "Amerikanere er rare dyr. De har både Trump og Fahrenheit. Det er vanskelig å lage en funksjon som erstatter Trump med noen andre, men vi kan lage en funksjon som konverterer Fahrenheit til Celsius (ikke motsatt – det vil vi jo ikke!). Formelen er slik:\n",
    "\n",
    "$$T_C = (T_F-32)\\cdot \\frac{5}{9}$$\n",
    "\n",
    "der $T_C$ er temperaturen i Celsius og $T_F$ er temperaturen i Fahrenheit. Lag et program som konverterer Fahrenheit til Celsius gjennom en funksjon.\n",
    "\n",
    "#### Løsning:"
   ]
  },
  {
   "cell_type": "code",
   "execution_count": 32,
   "metadata": {},
   "outputs": [
    {
     "name": "stdout",
     "output_type": "stream",
     "text": [
      "61.0F = 16.1C\n"
     ]
    }
   ],
   "source": [
    "tf = float(input(\"Skriv inn temperatur i Fahrenheit: \"))\n",
    "\n",
    "def fahrenheitTilCelsius(tf):\n",
    "    return (tf - 32) * 5/9\n",
    "\n",
    "print(f'{tf}F = {fahrenheitTilCelsius(tf):.1f}C')"
   ]
  },
  {
   "cell_type": "markdown",
   "metadata": {},
   "source": [
    "### 3.25"
   ]
  },
  {
   "cell_type": "code",
   "execution_count": 40,
   "metadata": {},
   "outputs": [
    {
     "name": "stdout",
     "output_type": "stream",
     "text": [
      "30.0 grader = 0.5 radianer\n"
     ]
    }
   ],
   "source": [
    "vg = float(input(\"Vinkelmål i grader: \"))\n",
    "\n",
    "def graderTilRadianer(vg):\n",
    "    return 2 * np.pi * vg / 360\n",
    "\n",
    "print(f'{vg} grader = {graderTilRadianer(vg):.1} radianer')"
   ]
  },
  {
   "cell_type": "markdown",
   "metadata": {},
   "source": [
    "### 3.31     \n",
    "\n",
    "$$x=\\frac{-b \\pm \\sqrt{b^2-4ac}}{2a}$$"
   ]
  },
  {
   "cell_type": "code",
   "execution_count": 60,
   "metadata": {},
   "outputs": [
    {
     "name": "stdout",
     "output_type": "stream",
     "text": [
      "x(1, 0, -4) = (-2.0, 2.0)\n"
     ]
    }
   ],
   "source": [
    "def x(a, b, c):\n",
    "    return (-b - np.sqrt(b**2 - 4 * a * c))/(2 * a), (-b + np.sqrt(b**2 - 4 * a * c))/(2 * a)\n",
    "\n",
    "print(f'x(1, 0, -4) = {x(1, 0,-4)}')"
   ]
  },
  {
   "cell_type": "markdown",
   "metadata": {},
   "source": [
    "### 3.33 a)\n",
    "$$\\log_2(x)=\\frac{\\log(x)}{\\log(2)}$$"
   ]
  },
  {
   "cell_type": "code",
   "execution_count": 65,
   "metadata": {},
   "outputs": [
    {
     "name": "stdout",
     "output_type": "stream",
     "text": [
      "log_2(64) = 6.0\n"
     ]
    }
   ],
   "source": [
    "x = int(input(\"Skriv inn x for å regne ut log_2(x): \"))\n",
    "\n",
    "print(f'log_2({x}) = {np.log(x)/np.log(2)}')"
   ]
  },
  {
   "cell_type": "markdown",
   "metadata": {},
   "source": [
    "### 3.33 b)\n",
    "$$\\log_a(x)=\\frac{\\log(x)}{\\log(a)}$$"
   ]
  },
  {
   "cell_type": "code",
   "execution_count": 66,
   "metadata": {},
   "outputs": [
    {
     "name": "stdout",
     "output_type": "stream",
     "text": [
      "log_10(10000) = 4.0\n"
     ]
    }
   ],
   "source": [
    "x = int(input(\"Skriv inn x for å regne ut log_a(x): \"))\n",
    "a = int(input(\"Skriv inn a for å regne ut log_a(x): \"))\n",
    "\n",
    "print(f'log_{a}({x}) = {np.log(x)/np.log(a)}')"
   ]
  }
 ],
 "metadata": {
  "kernelspec": {
   "display_name": "Python 3",
   "language": "python",
   "name": "python3"
  },
  "language_info": {
   "codemirror_mode": {
    "name": "ipython",
    "version": 3
   },
   "file_extension": ".py",
   "mimetype": "text/x-python",
   "name": "python",
   "nbconvert_exporter": "python",
   "pygments_lexer": "ipython3",
   "version": "3.6.6"
  }
 },
 "nbformat": 4,
 "nbformat_minor": 2
}
